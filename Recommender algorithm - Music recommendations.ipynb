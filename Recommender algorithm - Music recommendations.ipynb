{
 "cells": [
  {
   "cell_type": "markdown",
   "metadata": {
    "collapsed": true
   },
   "source": [
    "2017 edition"
   ]
  },
  {
   "cell_type": "markdown",
   "metadata": {},
   "source": [
    "# Building a music recommender system\n",
    "\n",
    "As its name implies, a recommender system is a tool that helps predicting what a user may or may not like among a list of given items. In some sense, you can view this as an alternative to content search, as recommendation engines help users discover products or content that they may not come across otherwise. For example, Facebook suggests friends and pages to users. Youtube recommends videos which users may be interested in. Amazon suggests the products which users may need... Recommendation engines engage users to services, can be seen as a revenue optimization process, and in general help maintaining interest in a service.\n",
    "\n",
    "In this notebook, we study how to build a simple recommender system: we focus on music recommendations, and we use a simple algorithm to predict which items users might like, that is called ALS, alternating least squares.\n",
    "\n",
    "## Goals\n",
    "\n",
    "In this lecture, we expect students to:\n",
    "\n",
    "- Revisit (or learn) recommender algorithms\n",
    "\n",
    "- Understand the idea of Matrix Factorization and the ALS algorithm (serial and parallel versions)\n",
    "\n",
    "- Build a simple model for a real usecase: music recommender system\n",
    "\n",
    "- Understand how to validate the results\n",
    "\n",
    "## Steps\n",
    "\n",
    "We assume students to work outside lab hours on the learning material. These are the steps by which we guide students, during labs, to build a good basis for the end-to-end development of a recommender system:\n",
    "\n",
    "* Inspect the data using Spark SQL, and build some basic, but very valuable knowledge about the information we have at hand\n",
    "* Formally define what is a sensible algorithm to achieve our goal: given the \"history\" of user taste for music, recommend new music to discover. Essentialy, we want to build a statistical model of user preferences such that we can use it to \"predict\" which additional music the user could like\n",
    "* With our formal definition at hand, we will learn different ways to implement such an algorithm. Our goal here is to illustrate what are the difficulties to overcome when implementing a (parallel) algorithm\n",
    "* Finally, we will focus on an existing implementation, available in the Apache Spark MLLib, which we will use out of the box to build a reliable statistical model\n",
    "\n",
    "Now, you may think at this point we will be done!\n",
    "\n",
    "Well, you'd better think twice: one important topic we will cover in all our Notebooks is **how to validate the results we obtain**, and **how to choose good parameters to train models** especially when using an \"opaque\" library for doing the job. As a consequence, we will focus on the statistical validation of our recommender system.\n",
    "\n",
    "# Important note for grading\n",
    "This notebook displays a series of questions, that we use to grade the work done. Since the following questions are rather basic, and do not change much from year to year, they only allow reaching the grade 10/20. Additional points can be gained by showing originality, depth, algorithmic design and implementations beyond that used in the notebook. Remember that this should become your own notebook: there is ample room for creativity!"
   ]
  },
  {
   "cell_type": "markdown",
   "metadata": {},
   "source": [
    "# 1. Data\n",
    "\n",
    "Understanding data is one of the most important part when designing any machine learning algorithm. In this notebook, we will use a data set published by Audioscrobbler - a music recommendation system for last.fm. Audioscrobbler is also one of the first internet streaming radio sites, founded in 2002. It provided an open API for “scrobbling”, or recording listeners’ plays of artists’ songs. last.fm used this information to build a powerful music recommender engine.\n",
    "\n",
    "## 1.1. Data schema\n",
    "\n",
    "Unlike a rating dataset which contains information about users' preference for products (one star, 3 stars, and so on), the datasets from Audioscrobbler only has information about events: specifically, it keeps track of how many times a user played songs of a given artist and the names of artists. That means it carries less information than a rating: in the literature, this is called explicit vs. implicit ratings.\n",
    "\n",
    "### Reading material\n",
    "\n",
    "- [Implicit Feedback for Inferring User Preference: A Bibliography](http://people.csail.mit.edu/teevan/work/publications/papers/sigir-forum03.pdf)\n",
    "- [Comparing explicit and implicit feedback techniques for web retrieval: TREC-10 interactive track report](http://trec.nist.gov/pubs/trec10/papers/glasgow.pdf)\n",
    "- [Probabilistic Models for Data Combination in Recommender Systems](http://mlg.eng.cam.ac.uk/pub/pdf/WilGha08.pdf)\n",
    "\n",
    "The data we use in this Notebook is available in 3 files (these files are stored in our HDFS layer, in the directory  ```/datasets/lastfm```):\n",
    "\n",
    "- **`user_artist_data.txt`**: It contains about 140,000+ unique users, and 1.6 million unique artists. About 24.2 million users’ plays of artists’ are recorded, along with their count. It has 3 columns separated by spaces: \n",
    "\n",
    "| UserID | ArtistID | PlayCount |\n",
    "|----|----|----|\n",
    "| ...|...|...|\n",
    "\n",
    "\n",
    "- **`artist_data.txt`** : It prodives the names of each artist by their IDs. It has 2 columns separated by tab characters (`\\t`).\n",
    "\n",
    "| ArtistID | Name |\n",
    "|---|---|\n",
    "|...|...|\n",
    "\n",
    "- **`artist_alias.txt`**: Note that when plays are scrobbled, the client application submits the name of the artist being played. This name could be misspelled or nonstandard. For example, \"The Smiths\", \"Smiths, The\", and \"the smiths\" may appear as distinct artist IDs in the data set, even though they are plainly the same. `artist_alias.txt` maps artist IDs that are known misspellings or variants to the canonical ID of that artist. The data in this file has 2 columns separated by tab characters (`\\t`).\n",
    "\n",
    "| MisspelledArtistID | StandardArtistID |\n",
    "|---|---|\n",
    "|...|...|\n",
    "\n"
   ]
  },
  {
   "cell_type": "markdown",
   "metadata": {},
   "source": [
    "## 1.2. Understanding data: simple descriptive statistic\n",
    "\n",
    "In order to choose or design a suitable algorithm for achieving our goals, given the data we have, we should first understand data characteristics. To start, we import the necessary packages to work with regular expressions, Data Frames, and other nice features of our programming environment."
   ]
  },
  {
   "cell_type": "code",
   "execution_count": 1,
   "metadata": {
    "collapsed": false
   },
   "outputs": [],
   "source": [
    "import os\n",
    "import sys\n",
    "import re\n",
    "import random\n",
    "from pyspark import SparkContext\n",
    "from pyspark.sql import SQLContext\n",
    "from pyspark.sql.types import *\n",
    "from pyspark.sql import Row\n",
    "from pyspark.sql.functions import *\n",
    "\n",
    "%matplotlib inline\n",
    "import matplotlib.pyplot as plt\n",
    "import pandas as pd\n",
    "import numpy as np\n",
    "from time import time\n",
    "\n",
    "sqlContext = SQLContext(sc)\n",
    "base = \"/datasets/lastfm/\""
   ]
  },
  {
   "cell_type": "markdown",
   "metadata": {},
   "source": [
    "### Question 1\n",
    "\n",
    "#### Question 1.0 (Non-grading)\n",
    "\n",
    "Using SPARK SQL, load data from `/datasets/lastfm/user_artist_data.txt` and show the first 20 entries (via function `show()`).\n",
    "\n",
    "For this Notebook, from a programming point of view, we are given the schema for the data we use, which is as follows:\n",
    "\n",
    "```\n",
    "userID: long int\n",
    "artistID: long int\n",
    "playCount: int\n",
    "```\n",
    "\n",
    "Each line of the dataset contains the above three fields, separated by a \"white space\"."
   ]
  },
  {
   "cell_type": "code",
   "execution_count": 2,
   "metadata": {
    "collapsed": false
   },
   "outputs": [
    {
     "name": "stdout",
     "output_type": "stream",
     "text": [
      "+-------+--------+---------+\n",
      "| userID|artistID|playCount|\n",
      "+-------+--------+---------+\n",
      "|1000002|       1|       55|\n",
      "|1000002| 1000006|       33|\n",
      "|1000002| 1000007|        8|\n",
      "|1000002| 1000009|      144|\n",
      "|1000002| 1000010|      314|\n",
      "|1000002| 1000013|        8|\n",
      "|1000002| 1000014|       42|\n",
      "|1000002| 1000017|       69|\n",
      "|1000002| 1000024|      329|\n",
      "|1000002| 1000025|        1|\n",
      "|1000002| 1000028|       17|\n",
      "|1000002| 1000031|       47|\n",
      "|1000002| 1000033|       15|\n",
      "|1000002| 1000042|        1|\n",
      "|1000002| 1000045|        1|\n",
      "|1000002| 1000054|        2|\n",
      "|1000002| 1000055|       25|\n",
      "|1000002| 1000056|        4|\n",
      "|1000002| 1000059|        2|\n",
      "|1000002| 1000062|       71|\n",
      "+-------+--------+---------+\n",
      "only showing top 20 rows\n",
      "\n"
     ]
    }
   ],
   "source": [
    "userArtistDataSchema = StructType([ \\\n",
    "    StructField(\"userID\", LongType(), True), \\\n",
    "    StructField(\"artistID\", LongType(), True), \\\n",
    "    StructField(\"playCount\", IntegerType(), True)])\n",
    "\n",
    "userArtistDF = sqlContext.read \\\n",
    "    .format('com.databricks.spark.csv') \\\n",
    "    .options(header='false', delimiter=' ') \\\n",
    "    .load(base + \"user_artist_data.txt\", schema = userArtistDataSchema) \\\n",
    "    .cache()\n",
    "\n",
    "# we can cache an Dataframe to avoid computing it from the beginning everytime it is accessed.\n",
    "userArtistDF.cache()\n",
    "\n",
    "userArtistDF.show()"
   ]
  },
  {
   "cell_type": "code",
   "execution_count": 3,
   "metadata": {
    "collapsed": false
   },
   "outputs": [
    {
     "name": "stdout",
     "output_type": "stream",
     "text": [
      "+-------+------------------+------------------+------------------+\n",
      "|summary|            userID|          artistID|         playCount|\n",
      "+-------+------------------+------------------+------------------+\n",
      "|  count|          24296858|          24296858|          24296858|\n",
      "|   mean|1947573.2653533637|1718704.0937568964| 15.29576248089362|\n",
      "| stddev| 496000.5551818908| 2539389.092428367|153.91532446980014|\n",
      "|    min|                90|                 1|                 1|\n",
      "|    max|           2443548|          10794401|            439771|\n",
      "+-------+------------------+------------------+------------------+\n",
      "\n"
     ]
    }
   ],
   "source": [
    "userArtistDF.describe().show()"
   ]
  },
  {
   "cell_type": "code",
   "execution_count": 4,
   "metadata": {
    "collapsed": false
   },
   "outputs": [
    {
     "name": "stdout",
     "output_type": "stream",
     "text": [
      "The total number of entries in the userArtist dataset is:  24296858\n"
     ]
    }
   ],
   "source": [
    "tot = userArtistDF.count()\n",
    "print(\"The total number of entries in the userArtist dataset is: \", tot)"
   ]
  },
  {
   "cell_type": "markdown",
   "metadata": {},
   "source": [
    "#### Question 1.1: \n",
    "How many distinct users do we have in our data? "
   ]
  },
  {
   "cell_type": "code",
   "execution_count": 5,
   "metadata": {
    "collapsed": false
   },
   "outputs": [
    {
     "name": "stdout",
     "output_type": "stream",
     "text": [
      "Total n. of users:  148111\n"
     ]
    }
   ],
   "source": [
    "uniqueUsers = userArtistDF.select(userArtistDF.userID).distinct().count()\n",
    "\n",
    "print(\"Total n. of users: \", uniqueUsers)"
   ]
  },
  {
   "cell_type": "code",
   "execution_count": 6,
   "metadata": {
    "collapsed": false
   },
   "outputs": [
    {
     "name": "stdout",
     "output_type": "stream",
     "text": [
      "+------+--------+---------+\n",
      "|userID|artistID|playCount|\n",
      "+------+--------+---------+\n",
      "+------+--------+---------+\n",
      "\n"
     ]
    }
   ],
   "source": [
    "invalidUA = userArtistDF[(userArtistDF.artistID < 1  ) | (userArtistDF.userID < 1) | (userArtistDF.playCount < 1)].show()"
   ]
  },
  {
   "cell_type": "markdown",
   "metadata": {},
   "source": [
    "------------------------------------------------------\n",
    "# Comments:\n",
    "From the results above, we can deduce that there is no empty field in our dataset.</font><br>\n",
    "\n",
    "------------------------------------------------------\n"
   ]
  },
  {
   "cell_type": "markdown",
   "metadata": {},
   "source": [
    "#### Question 1.2\n",
    "How many distinct artists do we have in our data ?"
   ]
  },
  {
   "cell_type": "code",
   "execution_count": 7,
   "metadata": {
    "collapsed": false
   },
   "outputs": [
    {
     "name": "stdout",
     "output_type": "stream",
     "text": [
      "Total n. of artists:  1631028\n"
     ]
    }
   ],
   "source": [
    "uniqueArtists = userArtistDF.select(userArtistDF.artistID).distinct().count()\n",
    "print(\"Total n. of artists: \", uniqueArtists)"
   ]
  },
  {
   "cell_type": "markdown",
   "metadata": {},
   "source": [
    "#### Question 1.3\n",
    "\n",
    "One limitation of Spark MLlib's ALS implementation - which we will use later - is that it requires IDs for users and items to be nonnegative 32-bit integers. This means that IDs larger than Integer.MAX_VALUE, or 2147483647, can't be used. So we need to check whether this data set conforms to the strict requirements of our library.\n",
    "\n",
    "What are the maximum and minimum values of column `userID` ?\n",
    "\n",
    "HINT: Refer to section 4.3 of Laboratory 2."
   ]
  },
  {
   "cell_type": "code",
   "execution_count": 8,
   "metadata": {
    "collapsed": false
   },
   "outputs": [
    {
     "name": "stdout",
     "output_type": "stream",
     "text": [
      "+-----------+-----------+\n",
      "|min(userID)|max(userID)|\n",
      "+-----------+-----------+\n",
      "|         90|    2443548|\n",
      "+-----------+-----------+\n",
      "\n"
     ]
    }
   ],
   "source": [
    "userArtistDF.select([min(userArtistDF.userID),max(userArtistDF.userID)]).show()"
   ]
  },
  {
   "cell_type": "markdown",
   "metadata": {},
   "source": [
    "------------------------------------------------------\n",
    "# Comments:\n",
    "Having userIDs between 90 and 2443548 when in this dataset we have just 148111 distinct userIDs shows that among the first 2443548 userIDs, only about 6.06% were active in the period of time in which this dataset was taken.\n",
    "\n",
    "------------------------------------------------------"
   ]
  },
  {
   "cell_type": "markdown",
   "metadata": {},
   "source": [
    "#### Question 1.4\n",
    "What is the maximum and minimum values of column `artistID` ?"
   ]
  },
  {
   "cell_type": "code",
   "execution_count": 9,
   "metadata": {
    "collapsed": false
   },
   "outputs": [
    {
     "name": "stdout",
     "output_type": "stream",
     "text": [
      "+-------------+-------------+\n",
      "|min(artistID)|max(artistID)|\n",
      "+-------------+-------------+\n",
      "|            1|     10794401|\n",
      "+-------------+-------------+\n",
      "\n"
     ]
    }
   ],
   "source": [
    "userArtistDF.select([min(userArtistDF.artistID),max(userArtistDF.artistID)]).show()"
   ]
  },
  {
   "cell_type": "markdown",
   "metadata": {},
   "source": [
    "------------------------------------------------------\n",
    "#  Comments:\n",
    "Among the first 10794401 artistIDs, there were only 1631028 distinct artistIDs listened to in the dataset. So according to these numbers in this dataset, 15.11% of artistIDs were listened to.\n",
    "\n",
    "So 15.11% of the artistIDs (in which we can find duplications because of misspelled artists) had their songs listened to by users in this dataset.\n",
    "\n",
    "------------------------------------------------------\n"
   ]
  },
  {
   "cell_type": "markdown",
   "metadata": {},
   "source": [
    "We just discovered that we have a total of 148,111 users in our dataset. Similarly, we have a total of 1,631,028 artists in our dataset. The maximum values of `userID` and `artistID` are still smaller than the biggest number of integer type.  No additional transformation will be necessary to use these IDs.\n",
    "\n",
    "One thing we can see here is that SPARK SQL provides very concise and powerful methods for data analytics (compared to using RDD and their low-level API). You can see more examples [here](https://databricks.com/blog/2015/06/02/statistical-and-mathematical-functions-with-dataframes-in-spark.html)."
   ]
  },
  {
   "cell_type": "markdown",
   "metadata": {},
   "source": [
    "Next, we might want to understand better user activity and artist popularity.\n",
    "\n",
    "Here is a list of simple descriptive queries that helps us reaching these purposes:\n",
    "\n",
    "* How many times each user has played a song? This is a good indicator of who are the most active users of our service. Note that a very active user with many play counts does not necessarily mean that the user is also \"curious\"! Indeed, she could have played the same song several times.\n",
    "* How many play counts for each artist? This is a good indicator of the artist popularity. Since we do not have time information associated to our data, we can only build a, e.g., top-10 ranking of the most popular artists in the dataset. Later in the notebook, we will learn that our dataset has a very \"loose\" definition about artists: very often artist IDs point to song titles as well. This means we have to be careful when establishing popular artists. Indeed, artists whose data is \"well formed\" will have the correct number of play counts associated to them. Instead, artists that appear mixed with song titles may see their play counts \"diluted\" across their songs."
   ]
  },
  {
   "cell_type": "markdown",
   "metadata": {},
   "source": [
    "### Question 2\n",
    "\n",
    "#### Question 2.1\n",
    "How many times each user has played a song? Show 5 samples of the result."
   ]
  },
  {
   "cell_type": "code",
   "execution_count": 56,
   "metadata": {
    "collapsed": false
   },
   "outputs": [
    {
     "name": "stdout",
     "output_type": "stream",
     "text": [
      "[Row(userID=1059637, sum(playCount)=674412), Row(userID=2064012, sum(playCount)=548427), Row(userID=2069337, sum(playCount)=393515), Row(userID=2023977, sum(playCount)=285978), Row(userID=1046559, sum(playCount)=183972)]\n"
     ]
    }
   ],
   "source": [
    "# Compute user activity\n",
    "# We are interested in how many playcounts each user has scored.\n",
    "userActivity = userArtistDF.groupBy(userArtistDF.userID).sum('playCount').orderBy('sum(playCount)',ascending=0).collect()\n",
    "print(userActivity[0:5])"
   ]
  },
  {
   "cell_type": "markdown",
   "metadata": {},
   "source": [
    "#### Question 2.2\n",
    "Plot CDF (or ECDF) of the number of play counts per User ID.\n",
    "\n",
    "Explain and comment the figure you just created: \n",
    "\n",
    "* for example, look at important percentiles (25%, median, 75%, tails such as >90%) and cross check with what you have found above to figure out if the result is plausible.\n",
    "* discuss about your users, with respect to the application domain we target in the notebook: you will notice that for some users, there is very little interaction with the system, which means that maybe reccommending something to them is going to be more difficult than for other users who interact more with the system.\n",
    "* look at outliers and reason about their impact on your reccommender algorithm"
   ]
  },
  {
   "cell_type": "code",
   "execution_count": 11,
   "metadata": {
    "collapsed": false
   },
   "outputs": [
    {
     "data": {
      "image/png": "[encoded data removed]",
      "text/plain": [
       "<matplotlib.figure.Figure at 0x7ff574492ef0>"
      ]
     },
     "metadata": {},
     "output_type": "display_data"
    },
    {
     "name": "stdout",
     "output_type": "stream",
     "text": [
      "25%: 204\n",
      "50%: 892\n",
      "75%: 2800\n",
      "90%: 6484\n",
      "99%: 21570\n",
      "100%: 674412\n",
      "The last 1%: 652842\n",
      "\n",
      "\n",
      "The number of users who listened only once to a song is:  1848\n"
     ]
    }
   ],
   "source": [
    "pdf = pd.DataFrame(data=userActivity)\n",
    "Y=np.sort( pdf[1] )\n",
    "yvals=(np.arange(len(Y))/float(len(Y)))\n",
    "\n",
    "\n",
    "#print(np.arange(len(Y)).shape())\n",
    "#print(shape(yvals))\n",
    "#plt = pd.Series(yvals) \n",
    "#plt.hist(cumulative=True, histtype='stepfilled')\n",
    "plt.semilogx(Y,yvals)\n",
    "plt.xlabel('Play Counts')\n",
    "plt.ylabel('ECDF')\n",
    "plt.grid(True,which=\"both\",ls=\"-\")\n",
    "plt.title('ECDF of number of play counts per User ID')\n",
    "plt.show()\n",
    "\n",
    "\n",
    "#a=np.array([zip(x,y) for x,y in zip(Y,yvals)])\n",
    "\n",
    "\n",
    "a = np.vstack((Y,yvals)).T\n",
    "#print(a)\n",
    "#print(a.shape)\n",
    "\n",
    "print(\"25%: \"+str(int(a[a[:,1]<=.25][-1][0])))\n",
    "print(\"50%: \"+str(int(a[a[:,1]<=.50][-1][0])))\n",
    "print(\"75%: \"+str(int(a[a[:,1]<=.75][-1][0])))\n",
    "print(\"90%: \"+str(int(a[a[:,1]<=.90][-1][0])))\n",
    "print(\"99%: \"+str(int(a[a[:,1]<=.99][-1][0])))\n",
    "print(\"100%: \"+str((int(a[a[:,1]<=1.0][-1][0]))))\n",
    "print(\"The last 1%: \"+str((int(a[a[:,1]<=1.0][-1][0]))-(int(a[a[:,1]<.99][-1][0]))))\n",
    "\n",
    "\n",
    "nb1 = len(pdf[pdf[1]==1].index)\n",
    "print(\"\\n\\nThe number of users who listened only once to a song is: \",nb1)"
   ]
  },
  {
   "cell_type": "markdown",
   "metadata": {},
   "source": [
    "------------------------------------------------------\n",
    "#  Comments:\n",
    "This curve shows the percentage of users having a specific range of PlayCounts. \n",
    "\n",
    "For example, we have 25% of the users having playCount less than 204 each (that can be the same songs but played more than once). \n",
    "\n",
    "The maximum number of playCount is 674412.\n",
    "\n",
    "We have 1% of the users who listened between 21570 and 652842 whereas 99% of the users have playCount less than 21570.\n",
    "\n",
    "TOP 5 users:\n",
    "\n",
    "<li>UserID 1059637: sum(playCount)=674412\n",
    "<li>UserID 2064012: sum(playCount)=548427\n",
    "<li>UserID 2069337: sum(playCount)=393515\n",
    "<li>UserID 2023977: sum(playCount)=285978\n",
    "<li>UserID 1046559: sum(playCount)=183972\n",
    "\n",
    "<br>We have though 1848 users who have 1 as playCount. In order to check how many different artists each user listens to, we should make another plot.(See the plot below)\n",
    "\n",
    "------------------------------------------------------\n"
   ]
  },
  {
   "cell_type": "code",
   "execution_count": 12,
   "metadata": {
    "collapsed": false,
    "scrolled": true
   },
   "outputs": [
    {
     "name": "stdout",
     "output_type": "stream",
     "text": [
      "[Row(userID=2030067, count=6836), Row(userID=1024631, count=6188), Row(userID=1059334, count=5864), Row(userID=2016026, count=5806), Row(userID=2023686, count=4863)]\n"
     ]
    }
   ],
   "source": [
    "artistPerUser = userArtistDF.select(userArtistDF.userID,userArtistDF.artistID).distinct().groupBy(userArtistDF.userID).count().orderBy('count',ascending=0).collect()\n",
    "print(artistPerUser[0:5])"
   ]
  },
  {
   "cell_type": "code",
   "execution_count": 13,
   "metadata": {
    "collapsed": false
   },
   "outputs": [
    {
     "data": {
      "image/png": "[encoded data removed]",
      "text/plain": [
       "<matplotlib.figure.Figure at 0x7ff574083cc0>"
      ]
     },
     "metadata": {},
     "output_type": "display_data"
    },
    {
     "name": "stdout",
     "output_type": "stream",
     "text": [
      "25%: 35\n",
      "50%: 97\n",
      "75%: 212\n",
      "90%: 389\n",
      "99%: 1020\n",
      "The last 1%: 5816\n",
      "\n",
      "\n",
      "The number of users who listened to only one artist:  3540\n"
     ]
    }
   ],
   "source": [
    "pdf1 = pd.DataFrame(data=artistPerUser)\n",
    "Y=np.sort( pdf1[1] )\n",
    "yvals=(np.arange(len(Y))/float(len(Y)))\n",
    "\n",
    "\n",
    "#print(np.arange(len(Y)).shape())\n",
    "#print(shape(yvals))\n",
    "#plt = pd.Series(yvals) \n",
    "#plt.hist(cumulative=True, histtype='stepfilled')\n",
    "plt.semilogx(Y,yvals)\n",
    "plt.xlabel('number of artistIDs')\n",
    "plt.ylabel('ECDF')\n",
    "plt.grid(True,which=\"both\",ls=\"-\")\n",
    "plt.title('ECDF of number of artistIDs per User ID')\n",
    "plt.show()\n",
    "\n",
    "\n",
    "#a=np.array([zip(x,y) for x,y in zip(Y,yvals)])\n",
    "\n",
    "\n",
    "a = np.vstack((Y,yvals)).T\n",
    "#print(a,\"\\n\\n\")\n",
    "\n",
    "#print(a[a[:,1]<.25][-1],\"\\n\\n\")\n",
    "\n",
    "print(\"25%: \"+str(int(a[a[:,1]<=.25][-1][0])))\n",
    "print(\"50%: \"+str(int(a[a[:,1]<=.50][-1][0])))\n",
    "print(\"75%: \"+str(int(a[a[:,1]<=.75][-1][0])))\n",
    "print(\"90%: \"+str(int(a[a[:,1]<=.90][-1][0])))\n",
    "print(\"99%: \"+str(int(a[a[:,1]<=.99][-1][0])))\n",
    "print(\"The last 1%: \"+str((int(a[a[:,1]<=1.0][-1][0]))-(int(a[a[:,1]<=.99][-1][0]))))\n",
    "\n",
    "nb1 = len(pdf1[pdf1[1]==1].index)\n",
    "print(\"\\n\\nThe number of users who listened to only one artist: \",nb1)"
   ]
  },
  {
   "cell_type": "markdown",
   "metadata": {},
   "source": [
    "------------------------------------------------------\n",
    "#  Comments:\n",
    "We have at least 3540 users who listened to only one artist among the total of 148111 distinct users. They represent about 2.4% of the total number of distinct users in the dataset. Among those 3540, we've already found that 1848 users have just 1 playCount, which means that about 1692 have playCount more than one but they listened to just one artist.\n",
    "\n",
    "It won't be easy to recommend other artists to them.\n",
    "\n",
    "We have also 1% of the users that listened to a number of different artists between 1020 and 5816.\n",
    "\n",
    "All these results do not take into consideration the problem of misspelling of the artists' names.\n",
    "\n",
    "------------------------------------------------------\n"
   ]
  },
  {
   "cell_type": "markdown",
   "metadata": {},
   "source": [
    "#### Question 2.3\n",
    "\n",
    "How many play counts for each artist? Plot CDF or ECDF of the result.\n",
    "\n",
    "Similarly to the previous question, you need to comment and interpret your result: what is the figure telling you?"
   ]
  },
  {
   "cell_type": "code",
   "execution_count": 57,
   "metadata": {
    "collapsed": false
   },
   "outputs": [
    {
     "name": "stdout",
     "output_type": "stream",
     "text": [
      "[Row(artistID=979, sum(playCount)=2502130), Row(artistID=1000113, sum(playCount)=2259185), Row(artistID=4267, sum(playCount)=1930592), Row(artistID=1000024, sum(playCount)=1542806), Row(artistID=4468, sum(playCount)=1425942)]\n"
     ]
    }
   ],
   "source": [
    "# Compute artist popularity\n",
    "# We are interested in how many playcounts per artist\n",
    "# ATTENTION! Grouping by artistID may be problematic, as stated above.\n",
    "artistActivity = userArtistDF.groupBy(userArtistDF.artistID).sum('playCount').orderBy('sum(playCount)',ascending=0).collect()\n",
    "print(artistActivity[0:5])"
   ]
  },
  {
   "cell_type": "code",
   "execution_count": 15,
   "metadata": {
    "collapsed": false
   },
   "outputs": [
    {
     "data": {
      "image/png": "[encoded data removed]",
      "text/plain": [
       "<matplotlib.figure.Figure at 0x7ff5741c6748>"
      ]
     },
     "metadata": {},
     "output_type": "display_data"
    },
    {
     "name": "stdout",
     "output_type": "stream",
     "text": [
      "32%: 1\n",
      "50%: 3\n",
      "75%: 11\n",
      "90%: 45\n",
      "99%: 1402\n",
      "The last 1%: 2500728\n",
      "\n",
      "\n",
      "The number of artists having playCount more than  100000 :  644\n"
     ]
    }
   ],
   "source": [
    "pdf = pd.DataFrame(data=artistActivity)\n",
    "#print(pdf)\n",
    "Y=np.sort( pdf[1] )\n",
    "yvals=(np.arange(len(Y))/float(len(Y)))\n",
    "\n",
    "\n",
    "\n",
    "plt.semilogx(Y,yvals)\n",
    "plt.xlabel('Play Counts')\n",
    "plt.ylabel('ECDF')\n",
    "plt.grid(True,which=\"both\",ls=\"-\")\n",
    "plt.title('ECDF of number of play counts per Artist ID')\n",
    "plt.show()\n",
    "\n",
    "\n",
    "a = np.vstack((Y,yvals)).T\n",
    "\n",
    "\n",
    "print(\"32%: \"+str(int(a[a[:,1]>.32][0][0])))\n",
    "print(\"50%: \"+str(int(a[a[:,1]<=.50][-1][0])))\n",
    "print(\"75%: \"+str(int(a[a[:,1]<=.75][-1][0])))\n",
    "print(\"90%: \"+str(int(a[a[:,1]<=.90][-1][0])))\n",
    "print(\"99%: \"+str(int(a[a[:,1]<=.99][-1][0])))\n",
    "print(\"The last 1%: \"+str((int(a[a[:,1]<=1.0][-1][0]))-(int(a[a[:,1]<=.99][-1][0]))))\n",
    "x=100000\n",
    "nb1 = len(pdf[pdf[1]>=x ].index)\n",
    "print(\"\\n\\nThe number of artists having playCount more than \",x,\": \",nb1)\n"
   ]
  },
  {
   "cell_type": "markdown",
   "metadata": {},
   "source": [
    "------------------------------------------------------\n",
    "#  Comments:\n",
    "At least 524942 (32%) of artists are listened to just once (playCount=1).\n",
    "\n",
    "We have just 19 artists having playCount more than 1 million.\n",
    "\n",
    "About 644 Artists are listened to more than 100,000 times. This number represents just 0.4% of the total number of artists.\n",
    "\n",
    "------------------------------------------------------\n"
   ]
  },
  {
   "cell_type": "markdown",
   "metadata": {},
   "source": [
    "#### Question 2.4\n",
    "Plot a bar chart to show top 5 artists In terms of absolute play counts.\n",
    "\n",
    "Comment the figure you just obtained:\n",
    "\n",
    "* are these reasonable results?\n",
    "* is looking at top-5 artists enough to learn more about your data?\n",
    "* do you see anything strange in the data?"
   ]
  },
  {
   "cell_type": "code",
   "execution_count": 16,
   "metadata": {
    "collapsed": false
   },
   "outputs": [
    {
     "name": "stdout",
     "output_type": "stream",
     "text": [
      "[2502130, 2259185, 1930592, 1542806, 1425942]\n"
     ]
    },
    {
     "data": {
      "image/png": "[encoded data removed]",
      "text/plain": [
       "<matplotlib.figure.Figure at 0x7ff5741c66a0>"
      ]
     },
     "metadata": {},
     "output_type": "display_data"
    }
   ],
   "source": [
    "pdf = pd.DataFrame(data=artistActivity)\n",
    "\n",
    "top5 = pdf[:5]\n",
    "\n",
    "IDs=top5[0].values.tolist()\n",
    "PlayCounts=top5[1].values.tolist()\n",
    "print(PlayCounts)\n",
    "\n",
    "y_pos = range(len(IDs))\n",
    "\n",
    "\n",
    "plt.barh(y_pos, PlayCounts[::-1], align='center', alpha=0.4)\n",
    "plt.yticks(y_pos, IDs[::-1])\n",
    "plt.xlabel('Play Count')\n",
    "plt.ylabel('Artist')\n",
    "plt.title('Top-5 Artist ID per play counts')\n",
    "plt.show()\n"
   ]
  },
  {
   "cell_type": "markdown",
   "metadata": {},
   "source": [
    "------------------------------------------------------\n",
    "# Comments:\n",
    "TOP 5 artists:\n",
    "<li>979:     sum(playCount)=2,502,130\n",
    "<li>1000113: sum(playCount)=2,259,185\n",
    "<li>4267:    sum(playCount)=1,930,592\n",
    "<li>1000024: sum(playCount)=1,542,806\n",
    "<li>4468:    sum(playCount)=1,425,942\n",
    "\n",
    "We can deduce that there is a big gap between a minority of very popular artists and a majority of less popular or almost not popular at all artists.\n",
    "But we need also to consider the popularity of artists in terms of number of fans, not only through comparing the playCounts.\n",
    "(See the results of the plot below)\n",
    "\n",
    "------------------------------------------------------\n"
   ]
  },
  {
   "cell_type": "code",
   "execution_count": 17,
   "metadata": {
    "collapsed": false
   },
   "outputs": [
    {
     "name": "stdout",
     "output_type": "stream",
     "text": [
      "[Row(artistID=979, count=45628), Row(artistID=4267, count=43879), Row(artistID=1000113, count=40899), Row(artistID=1177, count=38489), Row(artistID=976, count=36823)]\n"
     ]
    }
   ],
   "source": [
    "usersPerArtist = userArtistDF.select(userArtistDF.userID,userArtistDF.artistID).distinct().groupBy(userArtistDF.artistID).count().orderBy('count',ascending=0).collect()\n",
    "print(usersPerArtist[0:5])"
   ]
  },
  {
   "cell_type": "code",
   "execution_count": 18,
   "metadata": {
    "collapsed": false
   },
   "outputs": [
    {
     "data": {
      "image/png": "[encoded data removed]",
      "text/plain": [
       "<matplotlib.figure.Figure at 0x7ff5740873c8>"
      ]
     },
     "metadata": {},
     "output_type": "display_data"
    },
    {
     "name": "stdout",
     "output_type": "stream",
     "text": [
      "50%: 1\n",
      "75%: 2\n",
      "90%: 8\n",
      "99%: 150\n",
      "The last 1%: 45478\n",
      "\n",
      "\n",
      "The number of artists having just one fan:  1039599\n"
     ]
    }
   ],
   "source": [
    "pdf = pd.DataFrame(data=usersPerArtist)\n",
    "#print(pdf)\n",
    "Y=np.sort( pdf[1] )\n",
    "yvals=(np.arange(len(Y))/float(len(Y)))\n",
    "\n",
    "\n",
    "\n",
    "plt.semilogx(Y,yvals)\n",
    "plt.xlabel('userIDs')\n",
    "plt.ylabel('ECDF')\n",
    "plt.grid(True,which=\"both\",ls=\"-\")\n",
    "plt.title('ECDF of number of userIDs per Artist ID')\n",
    "plt.show()\n",
    "\n",
    "\n",
    "a = np.vstack((Y,yvals)).T\n",
    "\n",
    "\n",
    "print(\"50%: \"+str(int(a[a[:,1]<=.50][-1][0])))\n",
    "print(\"75%: \"+str(int(a[a[:,1]<=.75][-1][0])))\n",
    "print(\"90%: \"+str(int(a[a[:,1]<=.90][-1][0])))\n",
    "print(\"99%: \"+str(int(a[a[:,1]<=.99][-1][0])))\n",
    "print(\"The last 1%: \"+str((int(a[a[:,1]<=1.0][-1][0]))-(int(a[a[:,1]<=.99][-1][0]))))\n",
    "\n",
    "nb1 = len(pdf[pdf[1]==1 ].index)\n",
    "print(\"\\n\\nThe number of artists having just one fan: \",nb1)"
   ]
  },
  {
   "cell_type": "markdown",
   "metadata": {},
   "source": [
    "------------------------------------------------------\n",
    "#  Comments:\n",
    "We found that 1039599 artists have just one fan. According to the curve, their percentage is about 65% of the total number of artists. To be exact, they represent: 63.74%\n",
    "\n",
    "It would be hard to suggest them to other users, especially if the users who listened to these artists didn't listen to others.\n",
    "\n",
    "TOP 5 artists by the number of distinct fans:\n",
    "\n",
    "<li>979, count=45628\n",
    "<li>4267, count=43879\n",
    "<li>1000113, count=40899\n",
    "<li>1177, count=38489\n",
    "<li>976, count=36823\n",
    "\n",
    "Comparison between both popularity measurements:\n",
    "\n",
    "<table width=\"100%\"> \n",
    "<thead>\n",
    "<tr>\n",
    "    <th align=\"center\">Position #</th>\n",
    "    <th colspan=\"2\" align=\"center\">PER NUMBER OF FANS (Artist ID and Name)</th>\n",
    "    <th colspan=\"2\" align=\"center\">PER PLAYCOUNT (Artist ID and Name)</th>\n",
    "</tr>\n",
    "</thead>\n",
    "  <tr>\n",
    "    <td width=\"15%\">1</td>\n",
    "    <td width=\"20%\">979</td>\n",
    "    <td width=\"20%\">Radiohead</td>\n",
    "    <td width=\"20%\">979</td>\n",
    "    <td width=\"20%\">Radiohead</td>\n",
    "  </tr>\n",
    "  <tr>\n",
    "    <td>2</td>\n",
    "    <td>4267</td>\n",
    "    <td>Green Day</td>\n",
    "    <td>1000113</td>\n",
    "    <td>The Beatles</td>\n",
    "  </tr>\n",
    "  <tr>\n",
    "    <td >3</td>\n",
    "    <td>1000113</td>\n",
    "    <td>The Beatles</td>\n",
    "    <td>4267</td>\n",
    "    <td>Green Day</td>\n",
    "  </tr>\n",
    "  <tr>\n",
    "    <td >4</td>\n",
    "    <td>1177</td>\n",
    "    <td>Coldplay</td>\n",
    "    <td>1000024</td>\n",
    "    <td>Metallica</td>\n",
    "  </tr>\n",
    "  <tr>\n",
    "    <td >5</td>\n",
    "    <td>976</td>\n",
    "    <td>Nirvana</td>\n",
    "    <td>4468</td>\n",
    "    <td>System of a Down</td>\n",
    "  </tr>\n",
    "</table>\n",
    "\n",
    "We can deduce that using both measurements (number of fans and sum of playCounts), the artistID 979 (Radiohead) is the most popular (before cleaning our data). We can say also that 3 remained in the TOP5 although there was some change in ranking which are: Radiohead, Green Day and The Beatles\n",
    "\n",
    "\n",
    "------------------------------------------------------\n"
   ]
  },
  {
   "cell_type": "markdown",
   "metadata": {},
   "source": [
    "All seems clear right now, but ... wait a second! What about the problems indicated above about artist \"disambiguation\"? Are these artist ID we are using referring to unique artists? How can we make sure that such \"opaque\" identifiers point to different bands? Let's try to use some additional dataset to answer this question:  `artist_data.txt` dataset. This time, the schema of the dataset consists in:\n",
    "\n",
    "```\n",
    "artist ID: long int\n",
    "name: string\n",
    "```\n",
    "\n",
    "We will try to find whether a single artist has two different IDs."
   ]
  },
  {
   "cell_type": "markdown",
   "metadata": {},
   "source": [
    "### Question 3\n",
    "\n",
    "#### Question 3.1\n",
    "Load the data from `/datasets/lastfm/artist_data.txt` and use the SparkSQL API to show 5 samples.\n",
    "\n",
    "HINT: If you encounter some error when parsing lines in data because of invalid entries, parameter `mode='DROPMALFORMED'` will help you to eliminate these entries. The suggested syntax is: `<df>.options(header='false', delimiter='\\t', mode='DROPMALFORMED')`."
   ]
  },
  {
   "cell_type": "code",
   "execution_count": 19,
   "metadata": {
    "collapsed": false
   },
   "outputs": [
    {
     "name": "stdout",
     "output_type": "stream",
     "text": [
      "+--------+--------------------+\n",
      "|artistID|                name|\n",
      "+--------+--------------------+\n",
      "| 1134999|        06Crazy Life|\n",
      "| 6821360|        Pang Nakarin|\n",
      "|10113088|Terfel, Bartoli- ...|\n",
      "|10151459| The Flaming Sidebur|\n",
      "| 6826647|   Bodenstandig 3000|\n",
      "+--------+--------------------+\n",
      "only showing top 5 rows\n",
      "\n"
     ]
    }
   ],
   "source": [
    "customSchemaArtist = StructType([ \\\n",
    "    StructField(\"artistID\", LongType(), True), \\\n",
    "    StructField(\"name\", StringType(), True)])\n",
    "\n",
    "artistDF = sqlContext.read \\\n",
    "    .format('com.databricks.spark.csv') \\\n",
    "    .options(header='false', delimiter='\\t', mode='DROPMALFORMED') \\\n",
    "    .load(base + \"artist_data.txt\", schema = customSchemaArtist) \\\n",
    "    .cache()\n",
    "\n",
    "# we can cache an Dataframe to avoid computing it from the beginning everytime it is accessed.\n",
    "artistDF.cache()\n",
    "\n",
    "artistDF.show(5)\n",
    "\n"
   ]
  },
  {
   "cell_type": "code",
   "execution_count": 20,
   "metadata": {
    "collapsed": false
   },
   "outputs": [
    {
     "name": "stdout",
     "output_type": "stream",
     "text": [
      "+-------+------------------+--------------+\n",
      "|summary|          artistID|          name|\n",
      "+-------+------------------+--------------+\n",
      "|  count|           1848172|       1848171|\n",
      "|   mean|7028430.3117621085|      Infinity|\n",
      "| stddev|  3752957.37850446|           NaN|\n",
      "|    min|                 1|             \u0001|\n",
      "|    max|          10794305|￿￿￿￿￿￿￿￿￿￿￿￿くȁ|\n",
      "+-------+------------------+--------------+\n",
      "\n"
     ]
    }
   ],
   "source": [
    "artistDF.describe().show()"
   ]
  },
  {
   "cell_type": "code",
   "execution_count": 21,
   "metadata": {
    "collapsed": false
   },
   "outputs": [
    {
     "name": "stdout",
     "output_type": "stream",
     "text": [
      "+--------+---------+\n",
      "|artistID|     name|\n",
      "+--------+---------+\n",
      "|     979|Radiohead|\n",
      "+--------+---------+\n",
      "\n",
      "+--------+---------+\n",
      "|artistID|     name|\n",
      "+--------+---------+\n",
      "|    4267|Green Day|\n",
      "+--------+---------+\n",
      "\n",
      "+--------+-----------+\n",
      "|artistID|       name|\n",
      "+--------+-----------+\n",
      "| 1000113|The Beatles|\n",
      "+--------+-----------+\n",
      "\n",
      "+--------+--------+\n",
      "|artistID|    name|\n",
      "+--------+--------+\n",
      "|    1177|Coldplay|\n",
      "+--------+--------+\n",
      "\n",
      "+--------+---------+\n",
      "|artistID|     name|\n",
      "+--------+---------+\n",
      "| 1000024|Metallica|\n",
      "+--------+---------+\n",
      "\n",
      "+--------+-------+\n",
      "|artistID|   name|\n",
      "+--------+-------+\n",
      "|     976|Nirvana|\n",
      "+--------+-------+\n",
      "\n",
      "+--------+----------------+\n",
      "|artistID|            name|\n",
      "+--------+----------------+\n",
      "|    4468|System of a Down|\n",
      "+--------+----------------+\n",
      "\n"
     ]
    }
   ],
   "source": [
    "#Names of artists for Question 2.3\n",
    "artistDF[artistDF.artistID==979].show()\n",
    "artistDF[artistDF.artistID==4267].show()\n",
    "artistDF[artistDF.artistID==1000113].show()\n",
    "artistDF[artistDF.artistID==1177].show()\n",
    "artistDF[artistDF.artistID==1000024].show()\n",
    "artistDF[artistDF.artistID==976].show()\n",
    "artistDF[artistDF.artistID==4468].show()\n"
   ]
  },
  {
   "cell_type": "markdown",
   "metadata": {},
   "source": [
    "#### Question 3.2\n",
    "Find 20 artists whose name contains \"Aerosmith\". Take a look at artists that have ID equal to `1000010` and `2082323`. In your opinion, are they pointing to the same artist?\n",
    "\n",
    "HINT: Function `locate(sub_string, string)` can be useful in this case."
   ]
  },
  {
   "cell_type": "code",
   "execution_count": 22,
   "metadata": {
    "collapsed": false
   },
   "outputs": [
    {
     "name": "stdout",
     "output_type": "stream",
     "text": [
      "+--------+--------------------+\n",
      "|artistID|                name|\n",
      "+--------+--------------------+\n",
      "|10586006|Dusty Springfield...|\n",
      "| 6946007|    Aerosmith/RunDMC|\n",
      "|10475683|Aerosmith: Just P...|\n",
      "| 1083031|    Aerosmith/ G n R|\n",
      "| 6872848|Britney, Nsync, N...|\n",
      "|10586963|Green Day - Oasis...|\n",
      "|10028830|The Aerosmith Ant...|\n",
      "|10300357| Run-DMC + Aerosmith|\n",
      "| 2027746|Aerosmith by Musi...|\n",
      "| 1140418|[rap]Run DMC and ...|\n",
      "|10237208| Aerosmith + Run DMC|\n",
      "|10588537|Aerosmith, Kid Ro...|\n",
      "| 9934757|Aerosmith - Big Ones|\n",
      "|10437510|Green Day ft. Oas...|\n",
      "| 6936680| RUN DNC & Aerosmith|\n",
      "|10479781|      Aerosmith Hits|\n",
      "|10114147|Charlies Angels -...|\n",
      "| 1262439|Kid Rock, Run DMC...|\n",
      "| 7032554|Aerosmith & Run-D...|\n",
      "|10033592|          Aerosmith?|\n",
      "+--------+--------------------+\n",
      "only showing top 20 rows\n",
      "\n",
      "+--------+---------+\n",
      "|artistID|     name|\n",
      "+--------+---------+\n",
      "| 1000010|Aerosmith|\n",
      "+--------+---------+\n",
      "\n",
      "+--------+------------+\n",
      "|artistID|        name|\n",
      "+--------+------------+\n",
      "| 2082323|01 Aerosmith|\n",
      "+--------+------------+\n",
      "\n"
     ]
    }
   ],
   "source": [
    "# get artists whose name contains \"Aerosmith\"\n",
    "artistDF[locate(\"Aerosmith\", artistDF.name) > 0].show()\n",
    "\n",
    "\n",
    "# show two examples\n",
    "artistDF[artistDF.artistID==1000010].show()\n",
    "artistDF[artistDF.artistID==2082323].show()"
   ]
  },
  {
   "cell_type": "markdown",
   "metadata": {},
   "source": [
    "To answer this question correctly, we need to use an additional dataset `artist_alias.txt` which contains the ids of mispelled artists and standard artists. The schema of the dataset consists in:\n",
    "\n",
    "```\n",
    "mispelledID ID: long int\n",
    "standard ID: long int\n",
    "```"
   ]
  },
  {
   "cell_type": "markdown",
   "metadata": {},
   "source": [
    "#### Question 3.3\n",
    "Using SparkSQL API, load the dataset from `/datasets/lastfm/artist_alias.txt` then show 5 samples."
   ]
  },
  {
   "cell_type": "code",
   "execution_count": 23,
   "metadata": {
    "collapsed": false
   },
   "outputs": [
    {
     "name": "stdout",
     "output_type": "stream",
     "text": [
      "+------------+-----------+\n",
      "|missArtistID|stdArtistID|\n",
      "+------------+-----------+\n",
      "|     1092764|    1000311|\n",
      "|     1095122|    1000557|\n",
      "|     6708070|    1007267|\n",
      "|    10088054|    1042317|\n",
      "|     1195917|    1042317|\n",
      "+------------+-----------+\n",
      "only showing top 5 rows\n",
      "\n"
     ]
    }
   ],
   "source": [
    "customSchemaArtistAlias = StructType([ \\\n",
    "    StructField(\"missArtistID\", LongType(), True), \\\n",
    "    StructField(\"stdArtistID\", LongType(), True)])\n",
    "\n",
    "\n",
    "\n",
    "artistAliasDF = sqlContext.read \\\n",
    "    .format('com.databricks.spark.csv') \\\n",
    "    .options(header='false', delimiter='\\t', mode='DROPMALFORMED') \\\n",
    "    .load(base + \"artist_alias.txt\", schema = customSchemaArtistAlias) \\\n",
    "    .cache()\n",
    "\n",
    "# we can cache an Dataframe to avoid computing it from the beginning everytime it is accessed.\n",
    "artistAliasDF.cache()\n",
    "\n",
    "artistAliasDF.show(5)\n"
   ]
  },
  {
   "cell_type": "code",
   "execution_count": 24,
   "metadata": {
    "collapsed": false
   },
   "outputs": [
    {
     "name": "stdout",
     "output_type": "stream",
     "text": [
      "+-------+------------------+------------------+\n",
      "|summary|      missArtistID|       stdArtistID|\n",
      "+-------+------------------+------------------+\n",
      "|  count|            190892|            193027|\n",
      "|   mean|4987567.2059489135| 1160313.683329275|\n",
      "| stddev| 3626984.543545069|1592131.7150057629|\n",
      "|    min|                12|                 1|\n",
      "|    max|          10788933|          10712806|\n",
      "+-------+------------------+------------------+\n",
      "\n"
     ]
    }
   ],
   "source": [
    "artistAliasDF.describe().show()"
   ]
  },
  {
   "cell_type": "markdown",
   "metadata": {},
   "source": [
    "#### Question 3.4\n",
    "Verify the answer of question 3.2 (\"Are artists that have ID equal to `1000010` and `2082323` the same ?\") by finding the standard ids corresponding to the mispelled ids `1000010` and `2082323` respectively."
   ]
  },
  {
   "cell_type": "code",
   "execution_count": 25,
   "metadata": {
    "collapsed": false
   },
   "outputs": [
    {
     "name": "stdout",
     "output_type": "stream",
     "text": [
      "+--------+---------+\n",
      "|artistID|     name|\n",
      "+--------+---------+\n",
      "| 1000010|Aerosmith|\n",
      "+--------+---------+\n",
      "\n",
      "+--------+------------+\n",
      "|artistID|        name|\n",
      "+--------+------------+\n",
      "| 2082323|01 Aerosmith|\n",
      "+--------+------------+\n",
      "\n"
     ]
    }
   ],
   "source": [
    "artistDF[artistDF.artistID==1000010].show()\n",
    "artistDF[artistDF.artistID==2082323].show()"
   ]
  },
  {
   "cell_type": "markdown",
   "metadata": {},
   "source": [
    "------------------------------------------------------\n",
    "#  Comments:\n",
    "\n",
    "artistIDs 1000010 and 2082323 are pointing to the same artist name that is spelled in two different ways.\n",
    "\n",
    "------------------------------------------------------"
   ]
  },
  {
   "cell_type": "code",
   "execution_count": 26,
   "metadata": {
    "collapsed": false
   },
   "outputs": [
    {
     "name": "stdout",
     "output_type": "stream",
     "text": [
      "+------------+-----------+\n",
      "|missArtistID|stdArtistID|\n",
      "+------------+-----------+\n",
      "+------------+-----------+\n",
      "\n",
      "+------------+-----------+\n",
      "|missArtistID|stdArtistID|\n",
      "+------------+-----------+\n",
      "|     2082323|    1000010|\n",
      "|     1019565|    1000010|\n",
      "|     1053793|    1000010|\n",
      "|     1128909|    1000010|\n",
      "|     1174667|    1000010|\n",
      "+------------+-----------+\n",
      "only showing top 5 rows\n",
      "\n",
      "There are 130 possible misspellings for artist ID 1000010\n",
      "\n",
      "+------------+-----------+\n",
      "|missArtistID|stdArtistID|\n",
      "+------------+-----------+\n",
      "|     2082323|    1000010|\n",
      "+------------+-----------+\n",
      "\n"
     ]
    }
   ],
   "source": [
    "artistAliasDF[artistAliasDF.missArtistID==1000010].show()\n",
    "artistAliasDF[artistAliasDF.stdArtistID==1000010].show(5)\n",
    "print(\"There are\",artistAliasDF[artistAliasDF.stdArtistID==1000010].count(),\"possible misspellings for artist ID 1000010\\n\")\n",
    "artistAliasDF[artistAliasDF.missArtistID==2082323].show()"
   ]
  },
  {
   "cell_type": "markdown",
   "metadata": {},
   "source": [
    "------------------------------------------------------\n",
    "#  Comments:\n",
    "\n",
    "We found that artistID 1000010 doesn't exist in the missArtistID but it does exist in the stdArtistID and it co-exists with different misspelled artist IDs, which means that it's the standard ID for many misspelled ones and to be precise, there are 130 possible misspellings for this stdArtistID.\n",
    "\n",
    "We can deduce also that 2082323 is one of those misspelled variants.\n",
    "\n",
    "------------------------------------------------------\n"
   ]
  },
  {
   "cell_type": "code",
   "execution_count": 27,
   "metadata": {
    "collapsed": false
   },
   "outputs": [
    {
     "name": "stdout",
     "output_type": "stream",
     "text": [
      "[Row(stdArtistID=1000024, count=1204), Row(stdArtistID=1034635, count=955), Row(stdArtistID=82, count=671), Row(stdArtistID=1003694, count=656), Row(stdArtistID=1854, count=656)]\n",
      "+--------+---------+\n",
      "|artistID|     name|\n",
      "+--------+---------+\n",
      "| 1000024|Metallica|\n",
      "+--------+---------+\n",
      "\n",
      "+--------+---------+\n",
      "|artistID|     name|\n",
      "+--------+---------+\n",
      "| 1034635|[unknown]|\n",
      "+--------+---------+\n",
      "\n",
      "+--------+----------+\n",
      "|artistID|      name|\n",
      "+--------+----------+\n",
      "|      82|Pink Floyd|\n",
      "+--------+----------+\n",
      "\n",
      "+--------+----------+\n",
      "|artistID|      name|\n",
      "+--------+----------+\n",
      "| 1003694|South Park|\n",
      "+--------+----------+\n",
      "\n",
      "+--------+-----------+\n",
      "|artistID|       name|\n",
      "+--------+-----------+\n",
      "|    1854|Linkin Park|\n",
      "+--------+-----------+\n",
      "\n"
     ]
    }
   ],
   "source": [
    "#Study the misspellings\n",
    "nbrMisPerArtist = artistAliasDF.groupBy(artistAliasDF.stdArtistID).count().orderBy('count',ascending=0).collect()\n",
    "print(nbrMisPerArtist[0:5])\n",
    "\n",
    "artistDF[artistDF.artistID==1000024].show()\n",
    "artistDF[artistDF.artistID==1034635].show()\n",
    "artistDF[artistDF.artistID==82].show()\n",
    "artistDF[artistDF.artistID==1003694].show()\n",
    "artistDF[artistDF.artistID==1854].show()"
   ]
  },
  {
   "cell_type": "code",
   "execution_count": 28,
   "metadata": {
    "collapsed": false
   },
   "outputs": [
    {
     "data": {
      "image/png": "[encoded data removed]",
      "text/plain": [
       "<matplotlib.figure.Figure at 0x7ff54812c588>"
      ]
     },
     "metadata": {},
     "output_type": "display_data"
    },
    {
     "name": "stdout",
     "output_type": "stream",
     "text": [
      "60%: 1\n",
      "75%: 5\n",
      "90%: 17\n",
      "99%: 122\n"
     ]
    }
   ],
   "source": [
    "pdf = pd.DataFrame(data=nbrMisPerArtist)\n",
    "#print(pdf)\n",
    "Y=np.sort( pdf[1] )\n",
    "yvals=(np.arange(len(Y))/float(len(Y)))\n",
    "\n",
    "plt.semilogx(Y,yvals)\n",
    "plt.xlabel('Number of misspellings')\n",
    "plt.ylabel('ECDF')\n",
    "plt.grid(True,which=\"both\",ls=\"-\")\n",
    "plt.title('ECDF of number of Misspellings per Standard Artist ID')\n",
    "plt.show()\n",
    "\n",
    "a = np.vstack((Y,yvals)).T\n",
    "\n",
    "print(\"60%: \"+str(int(a[a[:,1]<=.39][-1][0])))\n",
    "print(\"75%: \"+str(int(a[a[:,1]<=.75][-1][0])))\n",
    "print(\"90%: \"+str(int(a[a[:,1]<=.90][-1][0])))\n",
    "print(\"99%: \"+str(int(a[a[:,1]<=.99][-1][0])))\n",
    "#print(\"The last 1%: \"+str((int(a[a[:,1]<=1.0][-1][0]))-(int(a[a[:,1]<=.99][-1][0]))))"
   ]
  },
  {
   "cell_type": "markdown",
   "metadata": {},
   "source": [
    "------------------------------------------------------\n",
    "#  Comments:\n",
    "The most misspelled artist name is Metallica (artistID=1000024).\n",
    "\n",
    "There's also \"[unknown]\" as artist name (artistID=1034635) which is the second most misspelled artist name. \n",
    "We consider \"[unknown]\" as the same artist that has 955 variants which can be incorrect since it can be more than just one artist but they were all saved as unknown.\n",
    "\n",
    "<br>Pink Floyd, South Park and Linkin Park are respectively ranked third, fourth and fifth in terms of number of misspellings. The number of their misspellings is between 656 and 671 each.\n",
    "\n",
    "About 40% artists have their name misspelled just once.And about 17% were misspelled twice.\n",
    "\n",
    "------------------------------------------------------\n"
   ]
  },
  {
   "cell_type": "markdown",
   "metadata": {},
   "source": [
    "### Question 4\n",
    "\n",
    "The mispelled or nonstandard information about artist make our results in the previous queries a bit \"sloppy\". To overcome this problem, we can replace all mispelled artist ids by the corresponding standard ids and re-compute the basic descriptive statistics on the \"amended\" data.\n",
    "First, we construct a \"dictionary\" that maps non-standard ids to a standard ones. Then this \"dictionary\" will be used to replace the mispelled artists.\n",
    "\n",
    "#### Question 4.1\n",
    "From data in the dataframe loaded from `/datasets/lastfm/artist_alias.txt`, construct a dictionary that maps each non-standard id to its standard id.\n",
    "\n",
    "HINT: Instead of using function `collect`, we can use `collectAsMap` to convert the collected data to a dictionary inline."
   ]
  },
  {
   "cell_type": "code",
   "execution_count": 29,
   "metadata": {
    "collapsed": false
   },
   "outputs": [],
   "source": [
    "artistAlias = artistAliasDF.rdd.map(lambda row: row).collectAsMap()\n",
    "\n",
    "\n"
   ]
  },
  {
   "cell_type": "markdown",
   "metadata": {},
   "source": [
    "#### Question 4.2\n",
    "Using the constructed dictionary in question 4.1, replace the non-standard artist ids in the dataframe that was loaded from `/datasets/lastfm/user_artist_data.txt` by the corresponding standard ids then show 5 samples.\n",
    "\n",
    "**NOTE 1**: If an id doesn't exist in the dictionary as a mispelled id, it is really a standard id.\n",
    "\n",
    "\n",
    "Using funtion `map` on Spark Dataframe will give us an RDD. We can convert this RDD back to Dataframe by using `sqlContext.createDataFrame(rdd_name, sql_schema)`\n",
    "\n",
    "\n",
    "**NOTE 2**: be careful! you need to be able to verify that you indeed solved the problem of having bad artist IDs. In principle, for the new data to be correct, we should to have duplicate pairs (user, artist), potentially with different play counts, right? In answering the question, please **show** that you indeed fixed the problem. "
   ]
  },
  {
   "cell_type": "code",
   "execution_count": 30,
   "metadata": {
    "collapsed": false
   },
   "outputs": [],
   "source": [
    "def replaceMispelledIDs(fields):\n",
    "    finalID = artistAlias.get(fields[1], fields[1])\n",
    "    return (fields[0], finalID, fields[2])\n"
   ]
  },
  {
   "cell_type": "code",
   "execution_count": 31,
   "metadata": {
    "collapsed": false
   },
   "outputs": [
    {
     "name": "stdout",
     "output_type": "stream",
     "text": [
      "The script takes 1.341628 seconds\n"
     ]
    }
   ],
   "source": [
    "from time import time\n",
    "t0 = time()\n",
    "\n",
    "newUserArtistDF = sqlContext.createDataFrame(\n",
    "    userArtistDF.rdd.map(lambda x: replaceMispelledIDs(x)), \n",
    "    userArtistDataSchema\n",
    ")\n",
    "\n",
    "\n",
    "newUserArtistDF.cache()\n",
    "\n",
    "\n",
    "t1 = time()\n",
    "\n",
    "print('The script takes %f seconds' %(t1-t0))"
   ]
  },
  {
   "cell_type": "markdown",
   "metadata": {},
   "source": [
    "# Examples"
   ]
  },
  {
   "cell_type": "code",
   "execution_count": 32,
   "metadata": {
    "collapsed": false
   },
   "outputs": [
    {
     "name": "stdout",
     "output_type": "stream",
     "text": [
      "+-------+-----------------+-----------------------------------------------+\n",
      "| UserID|Standard ArtistID|Count of misspellings in the userArtist dataset|\n",
      "+-------+-----------------+-----------------------------------------------+\n",
      "|2133748|          1018110|                                             94|\n",
      "|2052189|          1082784|                                             71|\n",
      "|2360120|              122|                                             68|\n",
      "|2302495|          1000024|                                             65|\n",
      "|1053375|          1001819|                                             57|\n",
      "+-------+-----------------+-----------------------------------------------+\n",
      "\n"
     ]
    }
   ],
   "source": [
    "newUserArtistPC = newUserArtistDF.groupBy([newUserArtistDF.userID, newUserArtistDF.artistID]).count().orderBy('count',ascending=0).take(5)\n",
    "sqlContext.createDataFrame(newUserArtistPC, [\"UserID\", \"Standard ArtistID\", \"Count of misspellings in the userArtist dataset\"]).show()"
   ]
  },
  {
   "cell_type": "code",
   "execution_count": 33,
   "metadata": {
    "collapsed": false
   },
   "outputs": [
    {
     "name": "stdout",
     "output_type": "stream",
     "text": [
      "+--------+---------------+\n",
      "|artistID|           name|\n",
      "+--------+---------------+\n",
      "| 1018110|Lars Winnerbäck|\n",
      "+--------+---------------+\n",
      "\n",
      "+--------+--------+\n",
      "|artistID|    name|\n",
      "+--------+--------+\n",
      "| 1082784|Laveerre|\n",
      "+--------+--------+\n",
      "\n",
      "+--------+------------+\n",
      "|artistID|        name|\n",
      "+--------+------------+\n",
      "|     122|Dinosaur Jr.|\n",
      "+--------+------------+\n",
      "\n",
      "+--------+---------+\n",
      "|artistID|     name|\n",
      "+--------+---------+\n",
      "| 1000024|Metallica|\n",
      "+--------+---------+\n",
      "\n",
      "+--------+----+\n",
      "|artistID|name|\n",
      "+--------+----+\n",
      "| 1001819|2Pac|\n",
      "+--------+----+\n",
      "\n"
     ]
    }
   ],
   "source": [
    "artistDF[artistDF.artistID==1018110].show()\n",
    "artistDF[artistDF.artistID==1082784].show()\n",
    "artistDF[artistDF.artistID==122].show()\n",
    "artistDF[artistDF.artistID==1000024].show()\n",
    "artistDF[artistDF.artistID==1001819].show()"
   ]
  },
  {
   "cell_type": "markdown",
   "metadata": {},
   "source": [
    "--------------------------------------------------\n",
    "#  Comments:\n",
    "\n",
    "Grouping at the same time by userID and artistID in the new dataframe allows us to see if there's any new redundancy after cleaning our data. We can see then that our cleaning took effect, that the most occurring misspelling (94 - 1 correct time = 93 times) is related to artistID 1018110 that corresponds to \"Lars Winnerbäck\".\n",
    "\"Laveerre\" was misspelled 70 times, \"Dinosaur Jr.\" 67 times, \"Metallica\" 64 times, and \"2Pac\" 56 times.\n",
    "\n",
    "For the first 3, the artist names are a bit complex but for the 5th for example, the artist name wasn't that coplex but 56 different misspellings is a lot.\n",
    "\n",
    "--------------------------------------------------"
   ]
  },
  {
   "cell_type": "code",
   "execution_count": 34,
   "metadata": {
    "collapsed": false
   },
   "outputs": [
    {
     "name": "stdout",
     "output_type": "stream",
     "text": [
      "DATASET BEFORE CLEANING\n",
      "+-------+--------+---------+\n",
      "| userID|artistID|playCount|\n",
      "+-------+--------+---------+\n",
      "|2133748| 1018110|     1313|\n",
      "+-------+--------+---------+\n",
      "\n",
      "DATASET AFTER CLEANING\n",
      "+-------+--------+---------+\n",
      "| userID|artistID|playCount|\n",
      "+-------+--------+---------+\n",
      "|2133748| 1018110|     1313|\n",
      "|2133748| 1018110|       75|\n",
      "|2133748| 1018110|       16|\n",
      "|2133748| 1018110|       15|\n",
      "|2133748| 1018110|       14|\n",
      "+-------+--------+---------+\n",
      "only showing top 5 rows\n",
      "\n"
     ]
    }
   ],
   "source": [
    "print(\"DATASET BEFORE CLEANING\")\n",
    "userArtistDF.filter((userArtistDF.artistID==1018110) & (userArtistDF.userID==2133748)).show()\n",
    "print(\"DATASET AFTER CLEANING\")\n",
    "newUserArtistDF.filter((newUserArtistDF.artistID==1018110) & (newUserArtistDF.userID==2133748)).orderBy('playCount', ascending=0).show(5)"
   ]
  },
  {
   "cell_type": "markdown",
   "metadata": {},
   "source": [
    "--------------------------------------------------\n",
    "#  Comments:\n",
    "\n",
    "An example about our data being cleaned is the case of userID=2133748 and artistID=1018110. For that standard artistID, we had an only co-occurence of it with that userID, but after clearing there is more than just one.\n",
    "\n",
    "In addition to the fact that the number of distinct artistIDs decreased in our dataset: from 1631028 to 1568126 after cleaning.\n",
    "\n",
    "---------------------------------------------"
   ]
  },
  {
   "cell_type": "markdown",
   "metadata": {},
   "source": [
    "#### Question 4.3\n",
    "Spark actions are executed through a set of stages, separated by distributed \"shuffle\" operations. Spark can be instructed to **automatically and efficiently** broadcast common data needed by tasks within **each stage**. The data broadcasted this way is cached in **serialized form** and deserialized before running each task. \n",
    "\n",
    "We can thus improve our answer to question 4.2: we can reduce the communication cost by shipping the \"dictionary\" in a more efficient way by using `broadcast variable`. Broadcast variables allow the programmer to keep a read-only variable cached on **each machine** rather than shipping a copy of it with tasks. They are cached in deserialized form. They can be used, for example, to give every node a copy of a large input dataset in an efficient manner. \n",
    "\n",
    "The broadcast of variable `v` can be created by `bV = sc.broadcast(v)`. Then value of this broadcast variable can be access via `bV.value`\n",
    "\n",
    "To question is then: using a broadcast variable, modify the script in question 4.2 to get better performance in terms of running time.\n"
   ]
  },
  {
   "cell_type": "code",
   "execution_count": 35,
   "metadata": {
    "collapsed": false
   },
   "outputs": [
    {
     "name": "stdout",
     "output_type": "stream",
     "text": [
      "+-------+--------+---------+\n",
      "| userID|artistID|playCount|\n",
      "+-------+--------+---------+\n",
      "|1000002|       1|       55|\n",
      "|1000002| 1000006|       33|\n",
      "|1000002| 1000007|        8|\n",
      "|1000002| 1000009|      144|\n",
      "|1000002| 1000010|      314|\n",
      "+-------+--------+---------+\n",
      "only showing top 5 rows\n",
      "\n",
      "The script takes 0.246339 seconds\n"
     ]
    }
   ],
   "source": [
    "from time import time\n",
    "\n",
    "bArtistAlias = sc.broadcast(artistAlias)\n",
    "\n",
    "def replaceMispelledIDs(fields):\n",
    "    finalID = bArtistAlias.value.get(fields[1], fields[1])\n",
    "    return (fields[0], finalID, fields[2])\n",
    "\n",
    "t0 = time()\n",
    "\n",
    "newUserArtistDF = sqlContext.createDataFrame(\n",
    "    userArtistDF.rdd.map(replaceMispelledIDs), \n",
    "    userArtistDataSchema\n",
    ")\n",
    "newUserArtistDF.show(5)\n",
    "t1 = time()\n",
    "\n",
    "print('The script takes %f seconds' %(t1-t0))\n",
    "newUserArtistDF = newUserArtistDF.cache()"
   ]
  },
  {
   "cell_type": "markdown",
   "metadata": {},
   "source": [
    "------------------------------------------------------\n",
    "#  Comments:\n",
    "The performance is way better using broadcast variables: 0.264939 seconds vs 0.826116 seconds. That's about 4 times better than the first case.\n",
    "\n",
    "--------------------------------------------------------\n"
   ]
  },
  {
   "cell_type": "markdown",
   "metadata": {},
   "source": [
    "Although having some advantages, explicitly creating broadcast variables is only useful when tasks across multiple stages need the same data or when caching the data in deserialized form is important."
   ]
  },
  {
   "cell_type": "markdown",
   "metadata": {},
   "source": [
    "### Question 5\n",
    "\n",
    "Well, our data frame contains clean and \"standard\" data. We can use it to redo previous statistic queries.\n",
    "\n",
    "#### Question 5.1\n",
    "\n",
    "How many unique artists? Compare with the result when using old data."
   ]
  },
  {
   "cell_type": "code",
   "execution_count": 36,
   "metadata": {
    "collapsed": false
   },
   "outputs": [
    {
     "name": "stdout",
     "output_type": "stream",
     "text": [
      "Total n. of artists:  1568126\n",
      "Total old n. of artists:  1631028\n"
     ]
    }
   ],
   "source": [
    "uniqueArtists = newUserArtistDF.select(newUserArtistDF.artistID).distinct().count()\n",
    "uniqueArtistsOld = userArtistDF.select(userArtistDF.artistID).distinct().count()\n",
    "print(\"Total n. of artists: \", uniqueArtists)\n",
    "print(\"Total old n. of artists: \", uniqueArtistsOld)\n",
    "#print(len(artistAlias))"
   ]
  },
  {
   "cell_type": "code",
   "execution_count": 37,
   "metadata": {
    "collapsed": false
   },
   "outputs": [
    {
     "name": "stdout",
     "output_type": "stream",
     "text": [
      "+--------+--------------+\n",
      "|artistID|sum(playCount)|\n",
      "+--------+--------------+\n",
      "|     979|       2502596|\n",
      "| 1000113|       2259825|\n",
      "|    4267|       1931143|\n",
      "| 1000024|       1543430|\n",
      "|    4468|       1426254|\n",
      "|      82|       1399665|\n",
      "|     831|       1361977|\n",
      "| 1001779|       1328969|\n",
      "| 1000130|       1234773|\n",
      "|     976|       1203348|\n",
      "+--------+--------------+\n",
      "only showing top 10 rows\n",
      "\n"
     ]
    }
   ],
   "source": [
    "newUserArtistDF.groupBy( 'artistID' ).sum( 'playCount' ).orderBy('sum(playCount)', ascending=0).show(10)\n"
   ]
  },
  {
   "cell_type": "markdown",
   "metadata": {},
   "source": [
    "------------------------------------------------------\n",
    "#  Comments:\n",
    "We have 62902 different missArtistIDs in the original dataset userArtist. They may have occured more than once each.\n",
    "\n",
    "------------------------------------------------------\n"
   ]
  },
  {
   "cell_type": "markdown",
   "metadata": {},
   "source": [
    "#### Question 5.2\n",
    "\n",
    "Who are the top-10 artists?\n",
    "  * In terms of absolute play counts\n",
    "  * In terms of \"audience size\", that is, how many users listened to one of their track at least once\n",
    "  \n",
    "Plot the results, and explain the figures you obtain."
   ]
  },
  {
   "cell_type": "code",
   "execution_count": 38,
   "metadata": {
    "collapsed": false
   },
   "outputs": [
    {
     "data": {
      "image/png": "[encoded data removed]",
      "text/plain": [
       "<matplotlib.figure.Figure at 0x7ff547b69160>"
      ]
     },
     "metadata": {},
     "output_type": "display_data"
    }
   ],
   "source": [
    "# calculate top-10 artists in term of play counts\n",
    "top10ArtistsPC = newUserArtistDF.groupBy( 'artistID' ).sum( 'playCount' ).orderBy('sum(playCount)', ascending=0).take(10)\n",
    "\n",
    "y_pos = range(len(top10ArtistsPC))\n",
    "pdf = pd.DataFrame(data=top10ArtistsPC[::-1])\n",
    "\n",
    "plt.barh(y_pos, pdf[1], align='center', alpha=0.4)\n",
    "plt.yticks(y_pos, pdf[0])\n",
    "plt.xlabel('Play Count')\n",
    "plt.ylabel('Artist')\n",
    "plt.title('Top-10 Artist ID per play counts')\n",
    "plt.show()"
   ]
  },
  {
   "cell_type": "markdown",
   "metadata": {},
   "source": [
    "------------------------------------------------------\n",
    "# Comments:\n",
    "Comparison of the TOP 5 with the previous results <b>in terms of playCounts</b>\n",
    "\n",
    "<table width=\"100%\"> \n",
    "<tr>\n",
    "    <td width=\"10%\">#</td>\n",
    "    <td width=\"18%\">Artist ID</td>\n",
    "    <td width=\"18%\">Artist name</td>\n",
    "    <td width=\"18%\">Old PlayCounts</td>\n",
    "    <td width=\"18%\">New PlayCounts</td>\n",
    "    <td width=\"18%\">Increase</td>\n",
    "  </tr>\n",
    "  <tr>\n",
    "    <td>1</td>\n",
    "    <td>979</td>\n",
    "    <td>Radiohead</td>\n",
    "    <td>2502130</td>\n",
    "    <td>2502596</td>\n",
    "    <td>466</td>\n",
    "  </tr>\n",
    "  <tr>\n",
    "    <td>2</td>\n",
    "    <td>1000113</td>\n",
    "    <td>The Beatles</td>\n",
    "    <td>2259185</td>\n",
    "    <td>2259825</td>\n",
    "    <td>640</td>\n",
    "  </tr>\n",
    "  <tr>\n",
    "    <td >3</td>\n",
    "    <td>4267</td>\n",
    "    <td>Green Day</td>\n",
    "    <td>1930592</td>\n",
    "    <td>1931143</td>\n",
    "    <td>551</td>\n",
    "  </tr>\n",
    "  <tr>\n",
    "    <td >4</td>\n",
    "    <td>1000024</td>\n",
    "    <td>Metallica</td>\n",
    "    <td>1542806</td>\n",
    "    <td>1543430</td>\n",
    "    <td>624</td>\n",
    "  </tr>\n",
    "  <tr>\n",
    "    <td >5</td>\n",
    "    <td>4468</td>\n",
    "    <td>System of a Down</td>\n",
    "    <td>1425942</td>\n",
    "    <td>1426254</td>\n",
    "    <td>312</td>\n",
    "  </tr>\n",
    "</table>\n",
    "\n",
    "<br>\n",
    "We found that the ranking didn't change at least for the TOP5 artists in terms of playcounts, although there was an increase in the total number of playCounts. That increase wasn't that important for those artists which might not be the case for others.\n",
    "\n",
    "--------------------------------------\n"
   ]
  },
  {
   "cell_type": "code",
   "execution_count": 39,
   "metadata": {
    "collapsed": false
   },
   "outputs": [
    {
     "data": {
      "image/png": "[encoded data removed]",
      "text/plain": [
       "<matplotlib.figure.Figure at 0x7ff547b67eb8>"
      ]
     },
     "metadata": {},
     "output_type": "display_data"
    }
   ],
   "source": [
    "# calculate top-10 artists in term of Audience Size\n",
    "top10ArtistsAS = newUserArtistDF.select('userID','artistID').distinct().groupBy( 'artistID' ).count().orderBy('count', ascending=0).take(10)\n",
    "\n",
    "y_pos = range(len(top10ArtistsAS))\n",
    "pdf = pd.DataFrame(data=top10ArtistsAS[::-1])\n",
    "\n",
    "plt.barh(y_pos, pdf[1], align='center', alpha=0.4)\n",
    "plt.yticks(y_pos, pdf[0])\n",
    "plt.xlabel('Audience size')\n",
    "plt.ylabel('Artist')\n",
    "plt.title('Top-10 Artist ID per audience size')\n",
    "plt.show()"
   ]
  },
  {
   "cell_type": "markdown",
   "metadata": {},
   "source": [
    "------------------------------------------------------\n",
    "#  Comments:\n",
    "Comparison of the TOP 5 with the previous results <b>in terms of audience size</b>\n",
    "\n",
    "<table width=\"100%\"> \n",
    "<tr>\n",
    "    <td width=\"10%\">#</td>\n",
    "    <td width=\"18%\">Artist ID</td>\n",
    "    <td width=\"18%\">Artist name</td>\n",
    "    <td width=\"18%\">Old audience size</td>\n",
    "    <td width=\"18%\">New audience size</td>\n",
    "    <td width=\"18%\">Increase</td>\n",
    "  </tr>\n",
    "  <tr>\n",
    "    <td>1</td>\n",
    "    <td>979</td>\n",
    "    <td>Radiohead</td>\n",
    "    <td>45628</td>\n",
    "    <td>45630</td>\n",
    "    <td>2</td>\n",
    "  </tr>\n",
    "  <tr>\n",
    "    <td>2</td>\n",
    "    <td>4267</td>\n",
    "    <td>Green Day</td>\n",
    "    <td>43879</td>\n",
    "    <td>43883</td>\n",
    "    <td>4</td>\n",
    "  </tr>\n",
    "  <tr>\n",
    "    <td >3</td>\n",
    "    <td>1000113</td>\n",
    "    <td>The Beatles</td>\n",
    "    <td>40899</td>\n",
    "    <td>40919</td>\n",
    "    <td>20</td>\n",
    "  </tr>\n",
    "  <tr>\n",
    "    <td >4</td>\n",
    "    <td>1177</td>\n",
    "    <td>Coldplay</td>\n",
    "    <td>38489</td>\n",
    "    <td>38497</td>\n",
    "    <td>8</td>\n",
    "  </tr>\n",
    "  <tr>\n",
    "    <td >5</td>\n",
    "    <td>976</td>\n",
    "    <td>Nirvana</td>\n",
    "    <td>36823</td>\n",
    "    <td>36823</td>\n",
    "    <td>0</td>\n",
    "  </tr>\n",
    "</table>\n",
    "\n",
    "<br>\n",
    "We had the same ranking of the TOP5 as the case of the old data. There was a small increase in the audience size though.\n",
    "\n",
    "This increase didn't affect the TOP5 ranking but it may have a more important impact on other artists.\n",
    "\n",
    "------------------------------------------------"
   ]
  },
  {
   "cell_type": "markdown",
   "metadata": {},
   "source": [
    "#### Question 5.3\n",
    "\n",
    "Who are the top-10 users?\n",
    "  * In terms of absolute play counts\n",
    "  * In terms of \"curiosity\", that is, how many different artists they listened to\n",
    "\n",
    "Plot the results"
   ]
  },
  {
   "cell_type": "code",
   "execution_count": 40,
   "metadata": {
    "collapsed": false
   },
   "outputs": [
    {
     "name": "stdout",
     "output_type": "stream",
     "text": [
      "[Row(userID=1059637, sum(playCount)=674412), Row(userID=2064012, sum(playCount)=548427), Row(userID=2069337, sum(playCount)=393515), Row(userID=2023977, sum(playCount)=285978), Row(userID=1046559, sum(playCount)=183972), Row(userID=1052461, sum(playCount)=175822), Row(userID=1070932, sum(playCount)=168977), Row(userID=1031009, sum(playCount)=167273), Row(userID=2020513, sum(playCount)=165642), Row(userID=2062243, sum(playCount)=151504)]\n"
     ]
    },
    {
     "data": {
      "image/png": "[encoded data removed]",
      "text/plain": [
       "<matplotlib.figure.Figure at 0x7ff546383f28>"
      ]
     },
     "metadata": {},
     "output_type": "display_data"
    }
   ],
   "source": [
    "# calculate top 10 users interm of play counts\n",
    "top10UsersByPlayCount = newUserArtistDF.groupBy( 'userID' ).sum( 'playCount' ).orderBy('sum(playCount)', ascending=0).take(10)\n",
    "print(top10UsersByPlayCount)\n",
    "y_pos = range(len(top10UsersByPlayCount))\n",
    "pdf = pd.DataFrame(data=top10UsersByPlayCount[::-1])\n",
    "\n",
    "plt.barh(y_pos, pdf[1], align='center', alpha=0.4)\n",
    "plt.yticks(y_pos, pdf[0])\n",
    "plt.xlabel('Play Count')\n",
    "plt.ylabel('User')\n",
    "plt.title('Top-10 Users ID per play counts')\n",
    "plt.show()"
   ]
  },
  {
   "cell_type": "markdown",
   "metadata": {},
   "source": [
    "------------------------------------------------------\n",
    "#  Comments:\n",
    "\n",
    "The most active user is 1059637 with about 674412 playCounts. If we suppose that the average time for playing a song is 3 minutes, that would be 1405 days of listening, which means that this dataset is the result of at least 4 years of data collecting, unless it's possible to listen to more than just one song in parallel which is a bit not logical but possible. \n",
    "\n",
    "The second is 2064012 with 548427 playCounts, the third 2069337 with 393515 playCounts...\n",
    "The difference between the most active user and the 10th most active is about 522908 playCounts which is a huge difference.\n",
    "\n",
    "--------------------------------------------------\n"
   ]
  },
  {
   "cell_type": "code",
   "execution_count": 41,
   "metadata": {
    "collapsed": false
   },
   "outputs": [
    {
     "data": {
      "image/png": "[encoded data removed]",
      "text/plain": [
       "<matplotlib.figure.Figure at 0x7ff545fa8080>"
      ]
     },
     "metadata": {},
     "output_type": "display_data"
    }
   ],
   "source": [
    "# calculate top 10 users interm of curiosity\n",
    "top10UsersByCuriosity = newUserArtistDF.select('userID','artistID').distinct().groupBy( 'userID' ).count().orderBy('count', ascending=0).take(10)\n",
    "\n",
    "y_pos = range(len(top10UsersByCuriosity))\n",
    "pdf = pd.DataFrame(data=top10UsersByCuriosity[::-1])\n",
    "\n",
    "plt.barh(y_pos, pdf[1], align='center', alpha=0.4)\n",
    "plt.yticks(y_pos, pdf[0])\n",
    "plt.xlabel('Curiosity')\n",
    "plt.ylabel('User')\n",
    "plt.title('Top-10 User ID per curiosity')\n",
    "plt.show()"
   ]
  },
  {
   "cell_type": "markdown",
   "metadata": {},
   "source": [
    "Now we have some valuable information about the data. It's the time to study how to build a statistical models."
   ]
  },
  {
   "cell_type": "markdown",
   "metadata": {},
   "source": [
    "# 2. Build a statistical models to make recommendations\n",
    "\n",
    "## 2.1 Introduction to recommender systems\n",
    "\n",
    "In a recommendation-system application there are two classes of entities, which we shall refer to as `users` and `items`. Users have preferences for certain items, and these preferences must be inferred from the data. The data itself is represented as a `preference matrix` $A$, giving for each user-item pair, a value that represents what is known about the degree of preference of that user for that item. The table below is an example for a `preference matrix` of 5 users and `k` items. The `preference matrix` is also known as `utility matrix`.\n",
    "\n",
    "| | IT1 | IT2 | IT3 | ... | ITk |\n",
    "|---|---|---|---|---|---|\n",
    "| U1 | 1 |  | 5 | ... | 3 |\n",
    "| U2 |  | 2 |  | ... | 2 |\n",
    "| U3 | 5 |  | 3 | ... |  |\n",
    "| U4 | 3 | 3 |  | ... | 4 |\n",
    "| U5 |  | 1 |  | ... | ... |\n",
    "\n",
    "The value of row i, column j expresses how much does user `i` like item `j`. The values are often the rating scores of users for items. An unknown value implies that we have no explicit information about the user's preference for the item. The goal of a recommendation system is to predict \"the blanks\" in the `preference matrix`. For example, assume that the rating score is from 1 (dislike) to 5 (love), would user `U5` like `IT3` ? We have two approaches:\n",
    "\n",
    "* Designing our recommendation system to take into account properties of items such as brand, category, price... or even the similarity of their names. We can denote the similarity of items `IT2` and `IT3`, and then conclude that because user `U5` did not like `IT2`, they were unlikely to enjoy SW2 either.\n",
    "\n",
    "* We might observe that the people who rated both `IT2` and `IT3` tended to give them similar ratings. Thus, we could conclude that user `U5` would also give `IT3` a low rating, similar to `U5`'s rating of `IT2`\n",
    "\n",
    "It is not necessary to predict every blank entry in a `utility matrix`. Rather, it is only necessary to discover some entries in each row that are likely to be high. In most applications, the recommendation system does not oﬀer users a ranking of all items, but rather suggests a few that the user should value highly. It may not even be necessary to ﬁnd all items with the highest expected ratings, but only to ﬁnd a large subset of those with the highest ratings.\n",
    "\n",
    "\n",
    "## 2.2 Families of recommender systems\n",
    "\n",
    "In general, recommender systems can be categorized into two groups:\n",
    "\n",
    "* **Content-Based** systems focus on properties of items. Similarity of items is determined by measuring the similarity in their properties.\n",
    "\n",
    "* **Collaborative-Filtering** systems focus on the relationship between users and items. Similarity of items is determined by the similarity of the ratings of those items by the users who have rated both items.\n",
    "\n",
    "In the usecase of this notebook, artists take the role of `items`, and `users` keep the same role as `users`.\n",
    "Since we have no information about `artists`, except their names, we cannot build a `content-based` recommender system.\n",
    "\n",
    "Therefore, in the rest of this notebook, we only focus on `Collaborative-Filtering` algorithms.\n",
    "\n",
    "## 2.3 Collaborative-Filtering \n",
    "In this section, we study a member of a broad class of algorithms called `latent-factor` models. They try to explain observed interactions between large numbers of users and products through a relatively small number of unobserved, underlying reasons. It is analogous to explaining why millions of people buy a particular few of thousands of possible albums by describing users and albums in terms of tastes for perhaps tens of genres, tastes which are **not directly observable or given** as data. \n",
    "\n",
    "First, we formulate the learning problem as a matrix completion problem. Then, we will use a type of `matrix factorization` model to \"fill in\" the blanks.  We are given implicit ratings that users have given certain items (that is, the number of times they played a particular artist) and our goal is to predict their ratings for the rest of the items. Formally, if there are $n$ users and $m$ items, we are given an $n \\times m$ matrix $R$ in which the generic entry $(u, i)$ represents the rating for item $i$ by user $u$. **Matrix $R$ has many missing entries indicating unobserved ratings, and our task is to estimate these unobserved ratings**.\n",
    "\n",
    "A popular approach to the matrix completion problem is **matrix factorization**, where we want to \"summarize\" users and items with their **latent factors**.\n",
    "\n",
    "### 2.3.1 Basic idea and an example of Matrix Factorization\n",
    "For example, given a preference matrix 5x5 as below, we want to approximate this matrix into the product of two smaller matrixes $X$ and $Y$ .\n",
    "\n",
    "$$\n",
    "M = \n",
    "\\begin{bmatrix}\n",
    " 5 & 2 & 4 & 4 & 3 \\\\\n",
    " 3 & 1 & 2 & 4 & 1 \\\\\n",
    " 2 &  & 3 & 1 & 4 \\\\\n",
    " 2 & 5 & 4 & 3 & 5 \\\\\n",
    " 4 & 4 & 5 & 4 &  \\\\\n",
    "\\end{bmatrix}\n",
    "\\approx M^\\prime =\n",
    "\\begin{bmatrix}\n",
    " x_{11} & x_{12} \\\\\n",
    " x_{21} & x_{22} \\\\\n",
    " x_{31} & x_{32} \\\\\n",
    " x_{41} & x_{42} \\\\\n",
    " x_{51} & x_{52} \\\\\n",
    "\\end{bmatrix}\n",
    "\\times\n",
    "\\begin{bmatrix}\n",
    " y_{11} & y_{12} & y_{13} & y_{14} & y_{15} \\\\\n",
    " y_{21} & y_{22} & y_{23} & y_{24} & y_{25} \\\\\n",
    "\\end{bmatrix}\n",
    "$$\n",
    "\n",
    "$M^\\prime$ is an approximation that is as close to A as possible. To calculate how far from $M$ $M^\\prime$ is, we often calculate the sum of squared distances of non-empty elements in $M$ and the corresponding elements in $M^\\prime$.\n",
    "In this way, for $M^\\prime$, besides the approximated elements in $M$, we also have the non-observed elements. Therefore, to see how much does user `i` like item `j`, we simply pick up the value of $M^\\prime_{i,j}$.\n",
    "\n",
    "The challenge is how to calculate $X$ and $Y$. The bad news is that this can't be solved directly for both the best $X$ and best $Y$ at the same time. Fortunately, if $Y$ is known, we can calculate the best of $X$, and vice versa. It means from the initial values of $X$ and $Y$ in the beginning, we calculate best $X$ according to $Y$, and then calculate the best $Y$ according to the new $X$. This process is repeated until the distance from $XY$ to $M$ is converged. It's simple, right ?\n",
    "\n",
    "Let's take an example. To compute the approximation for the above 5x5 matrix $M$, first, we init the value of $X$ and $Y$ as below.\n",
    "\n",
    "$$\n",
    "M^\\prime = X \\times Y =\n",
    "\\begin{bmatrix}\n",
    " 1 & 1 \\\\\n",
    " 1 & 1 \\\\\n",
    " 1 & 1 \\\\\n",
    " 1 & 1 \\\\\n",
    " 1 & 1 \\\\\n",
    "\\end{bmatrix}\n",
    "\\times\n",
    "\\begin{bmatrix}\n",
    " 1 & 1 & 1 & 1 & 1 \\\\\n",
    " 1 & 1 & 1 & 1 & 1 \\\\\n",
    "\\end{bmatrix}\n",
    "=\n",
    "\\begin{bmatrix}\n",
    " 2 & 2 & 2 & 2 & 2 \\\\\n",
    " 2 & 2 & 2 & 2 & 2 \\\\\n",
    " 2 & 2 & 2 & 2 & 2 \\\\\n",
    " 2 & 2 & 2 & 2 & 2 \\\\\n",
    " 2 & 2 & 2 & 2 & 2 \\\\\n",
    "\\end{bmatrix}\n",
    "$$\n",
    "\n",
    "With the initial iteration, we calculate the the Root-Mean-Square Error from $XY$ to $M$.\n",
    "\n",
    "Consider the ﬁrst rows of $M$ and $XY$ . We subtract the first row from $XY$ from the entries in the ﬁrst row of $M$, to get $3,0,2,2,1$. We square and sum these to get $18$. \n",
    "\n",
    "In the second row, we do the same to get $1,−1,0,2,−1$, square and sum to get $7$. \n",
    "\n",
    "In the third row, the second column is blank, so that entry is ignored when computing the RMSE. The diﬀerences are $0,1,−1,2$ and the sum of squares is $6$. \n",
    "\n",
    "For the fourth row, the diﬀerences are $0,3,2,1,3$ and the sum of squares is $23$. \n",
    "\n",
    "The ﬁfth row has a blank entry in the last column, so the diﬀerences are $2,2,3,2$ and the sum of squares is $21$. \n",
    "\n",
    "When we sum the sums from each of the ﬁve rows, we get $18+7+6+23+21 = 75$. So, $RMSE=\\sqrt{75/23}=1.806$ where $23$ is the number of non-empty values in $M$.\n",
    "\n",
    "Next, with the given value of $Y$, we calculate $X$ by finding the best value for $X_{11}$.\n",
    "\n",
    "$$\n",
    "M^\\prime = X \\times Y =\n",
    "\\begin{bmatrix}\n",
    " x & 1 \\\\\n",
    " 1 & 1 \\\\\n",
    " 1 & 1 \\\\\n",
    " 1 & 1 \\\\\n",
    " 1 & 1 \\\\\n",
    "\\end{bmatrix}\n",
    "\\times\n",
    "\\begin{bmatrix}\n",
    " 1 & 1 & 1 & 1 & 1 \\\\\n",
    " 1 & 1 & 1 & 1 & 1 \\\\\n",
    "\\end{bmatrix}\n",
    "=\n",
    "\\begin{bmatrix}\n",
    " x+1 & x+1 & x+1 & x+1 & x+1 \\\\\n",
    " 2 & 2 & 2 & 2 & 2 \\\\\n",
    " 2 & 2 & 2 & 2 & 2 \\\\\n",
    " 2 & 2 & 2 & 2 & 2 \\\\\n",
    " 2 & 2 & 2 & 2 & 2 \\\\\n",
    "\\end{bmatrix}\n",
    "$$\n",
    "\n",
    "Now, to minimize the $RMSE$  we minimize the difference of the first rows $(5−(x+1))^2 + (2−(x+1))^2 + (4−(x+1))^2 + (4−(x+1))^2 + (3−(x+1))^2$. By  taking the derivative and set that equal to 0, we pick $x=2.6$\n",
    "\n",
    "Given the new value of $X$, we can calculate the best value for $Y$.\n",
    "\n",
    "$$\n",
    "M^\\prime = X \\times Y =\n",
    "\\begin{bmatrix}\n",
    " 2.6 & 1 \\\\\n",
    " 1 & 1 \\\\\n",
    " 1 & 1 \\\\\n",
    " 1 & 1 \\\\\n",
    " 1 & 1 \\\\\n",
    "\\end{bmatrix}\n",
    "\\times\n",
    "\\begin{bmatrix}\n",
    " y & 1 & 1 & 1 & 1 \\\\\n",
    " 1 & 1 & 1 & 1 & 1 \\\\\n",
    "\\end{bmatrix}\n",
    "=\n",
    "\\begin{bmatrix}\n",
    " 3.6 & 3.6 & 3.6 & 3.6 & 3.6 \\\\\n",
    " 2 & 2 & 2 & 2 & 2 \\\\\n",
    " 2 & 2 & 2 & 2 & 2 \\\\\n",
    " 2 & 2 & 2 & 2 & 2 \\\\\n",
    " 2 & 2 & 2 & 2 & 2 \\\\\n",
    "\\end{bmatrix}\n",
    "$$\n",
    "\n",
    "By doing the same process as before, we can pick value for $y=1.617$. After that, we can check if the $RMSE$ is not converged, we continue to update $X$ by $Y$ and vice versa. In this example, for simple, we only update one element of each matrix in each iteration. In practice, we can update a full row or full matrix at once.\n"
   ]
  },
  {
   "cell_type": "markdown",
   "metadata": {},
   "source": [
    "### 2.3.2 Matrix Factorization: Objective and ALS Algorithm on a Single Machine\n",
    "\n",
    "More formally, in general, we select $k$ latent features, and describe each user $u$ with a $k-$dimensional vector $x_u$, and each item $i$ with a $k-$dimensional vector $y_i$.\n",
    "\n",
    "Then, to predict user $u$'s rating for item $i$, we do as follows: $ r_{ui} \\approx x_{u}^{T}y_i$.\n",
    "\n",
    "This can be put, more elegantly, in a matrix form. Let $x_1, \\cdots x_n \\in \\mathbb{R}^k$ be the factors for the users, and $y_1, \\cdots y_m \\in \\mathbb{R}^k$ the factors for the items. The $k \\times n$ user matrix $X$ and the $k \\times m$ item matrix $Y$ are then defined by:\n",
    "\n",
    "$$\n",
    "X = \n",
    "\\begin{bmatrix}\n",
    " |   &         & |  \\\\\n",
    "x_1  &  \\cdots & x_n\\\\\n",
    " |   &         & |  \\\\\n",
    "\\end{bmatrix}\n",
    "$$\n",
    "\n",
    "$$\n",
    "Y = \n",
    "\\begin{bmatrix}\n",
    " |   &         & |  \\\\\n",
    "y_1  &  \\cdots & y_i\\\\\n",
    " |   &         & |  \\\\\n",
    "\\end{bmatrix}\n",
    "$$\n",
    "\n",
    "Our goal is to estimate the complete ratings matrix $R \\approx X^{T} Y$. We can formulate this problem as an optimization problem in which we aim to minimize an objective function and find optimal $X$ and $Y$ . In particular, we aim to minimize the least squares error of the observed ratings (and regularize):\n",
    "\n",
    "$$\n",
    "\\min_{X,Y} \\sum_{r_{ui} \\text{observed}}(r_{ui} - x_{u}^{T}y_i)^2 + \\lambda \\left( \\sum_{u} \\|x_u\\|^2 + \\sum_{i} \\|y_i\\|^2 \\right) \n",
    "$$\n",
    "\n",
    "Notice that this objective is non-convex (because of the $x_{u}^{T} y_i$ term); in fact it’s NP-hard to optimize. Gradient descent can be used as an approximate approach here, however it turns out to be slow and costs lots of iterations. Note however, that if we fix the set of variables $X$ and treat them as constants, then the objective is a convex function of $Y$ and vice versa. Our approach will therefore be to fix $Y$ and optimize $X$, then fix $X$ and optimize $Y$, and repeat until convergence. This approach is known as **ALS (Alternating Least Squares)**. For our objective function, the alternating least squares algorithm can be expressed with this simple pseudo-code:"
   ]
  },
  {
   "cell_type": "markdown",
   "metadata": {},
   "source": [
    "Initialize $X$, $Y$\n",
    "\n",
    "**while**(convergence is not true) **do**\n",
    "\n",
    "\n",
    "**for** $u = 1 \\cdots n$ **do**\n",
    "\n",
    "$x_u = \\left( \\sum_{r_ui \\in r_{u*}} y_i y_{i}^{T} + \\lambda I_k \\right)^{-1} \\sum_{r_ui \\in r_{u*}} r_{ui} y_i $ \n",
    "   \n",
    "**end for**\n",
    "\n",
    "**for** $u = 1 \\cdots n$ **do**\n",
    "\n",
    "$y_i = \\left( \\sum_{r_ui \\in r_{*i}} x_u x_{u}^{T} + \\lambda I_k \\right)^{-1} \\sum_{r_ui \\in r_{*i}} r_{ui} x_u $ \n",
    "   \n",
    "**end for**\n",
    "\n",
    "\n",
    "**end while**"
   ]
  },
  {
   "cell_type": "markdown",
   "metadata": {},
   "source": [
    "For a single machine, we can analyze the computational cost of this algorithm. Updating each $x_u$ will cost $O(n_u k^2 + k^3)$, where $n_u$ is the number of items rated by user $u$, and similarly updating each $y_i$ will cost $O(n_i k^2 + k^3)$, where $n_i$ is the number of users that have rated item $i$.\n",
    "\n",
    "\n",
    "Once we’ve computed the matrices $X$ and $Y$, there are several ways compute a prediction. The first is to do what was discussed before, which is to simply predict $ r_{ui} \\approx x_{u}^{T}y_i$ for each user $u$ and item $i$. \n",
    "This approach will cost $O(nmk)$ if we’d like to estimate every user-item pair. \n",
    "\n",
    "However, this approach is prohibitively expensive for most real-world datasets. A second (and more holistic) approach is to use the $x_u$ and $y_i$ as features in another learning algorithm, incorporating these features with others that are relevant to the prediction task."
   ]
  },
  {
   "cell_type": "markdown",
   "metadata": {},
   "source": [
    "### 2.3.3 Parallel Altenating Least Squares\n",
    "\n",
    "There are several ways to distribute the computation of the ALS algorithm depending on how data is partitioned.\n",
    "\n",
    "#### Method 1: using joins\n",
    "First we consider a fully distributed version, in the sense that all data (both input and output) is stored in a distributed file system. In practice, input data (ratings) and parameters ($X$ and $Y$) are stored in an a Spark RDD. Specifically, ratings -- that are always **sparse** -- are stored as RDD of triplets:\n",
    "\n",
    "Ratings: RDD((u, i, $r_{ui}$), . . . )\n",
    "\n",
    "\n",
    "Instead, we can use dense representation for factor matrices $X$ and $Y$, and these are stored as RDDs of vectors. More precisely, we can use the data types introduced in Spark MLLib to store such vectors and matrices:\n",
    "\n",
    "X : RDD($x_1$,...,$x_n$)\n",
    "\n",
    "Y : RDD($y_1$,...,$y_m$)\n",
    "\n",
    "\n",
    "Now, recall the expression to compute $x_u$:\n",
    "\n",
    "$x_u = \\left( \\sum_{r_ui \\in r_{u*}} y_i y_{i}^{T} + \\lambda I_k \\right)^{-1} \\sum_{r_ui \\in r_{u*}} r_{ui} y_i $ \n",
    "\n",
    "Let's call the first summation *part A* and the second summation *part B*. To compute such parts, in parallel, we can proceed with the following high-level pseudocode:\n",
    "\n",
    "* Join the Ratings RDD with the $Y$ matrix RDD using key $i$ (items)\n",
    "* Map to compute $y_i y_{i}^{T}$ and emit using key $u$ (user)\n",
    "* ReduceByKey $u$ (user) to compute 􏰀$\\sum_{r_ui \\in r_{u*}} y_i y_{i}^{T}$\n",
    "* Invert\n",
    "* Another ReduceByKey $u$ (user) to compute 􏰁$\\sum_{r_ui \\in r_{u*}} r_{ui} y_i$\n",
    "\n",
    "We can use the same template to copmute $y_i$.\n",
    "\n",
    "This approach works fine, but note it requires computing $y_i y_{i}^{T}$ for each user that has rated item $i$. \n",
    "\n",
    "#### Method 2: using broadcast variables (advanced topic)\n",
    "The next approach takes advantage of the fact that the $X$ and $Y$ factor matrices are often very small and can be stored locally on each machine.\n",
    "\n",
    "* Partition the Ratings RDD **by user** to create $R_1$, and similarly partition the Ratings RDD **by item** to create $R_2$. This means there are two copies of the same Ratings RDD, albeit with different partitionings. In $R_1$, all ratings by the same user are on the same machine, and in $R_2$ all ratings for same item are on the same machine.\n",
    "* Broadcast the matrices $X$ and $Y$. Note that these matrices are not RDD of vectors: they are now \"local: matrices.\n",
    "* Using $R_1$ and $Y$, we can use expression $x_u$ from above to compute the update of $x_u$ locally on each machine\n",
    "* Using $R_2$ and $X$, we can use expression $y_i$ from above to compute the update of $y_i$ locally on each machine\n",
    "\n",
    "A further optimization to this method is to group the $X$ and $Y$ factors matrices into blocks (user blocks and item blocks) and reduce the communication by only sending to each machine the block of users (or items) that are needed to compute the updates at that machine. \n",
    "\n",
    "This method is called **Block ALS**. It is achieved by precomputing some information about the ratings matrix to determine the \"out-links\" of each user (which blocks of the items it will contribute to) and \"in-link\" information for each item (which of the factor vectors it receives from each user block it will depend on). For exmple, assume that machine 1 is responsible for users 1,2,...,37: these will be block 1 of users. The items rated by these users are block 1 of items. Only the factors of block 1 of users and block 1 of items will be broadcasted to machine 1.\n",
    "\n",
    "### Further readings\n",
    "Other methods for matrix factorization include:\n",
    "\n",
    "* Low Rank Approximation and Regression in Input Sparsity Time, by Kenneth L. Clarkson, David P. Woodruff. http://arxiv.org/abs/1207.6365\n",
    "* Generalized Low Rank Models (GLRM), by Madeleine Udell, Corinne Horn, Reza Zadeh, Stephen Boyd. http://arxiv.org/abs/1410.0342\n",
    "* Matrix Completion and Low-Rank SVD via Fast Alternating Least Squares, by Trevor Hastie, Rahul Mazumder, Jason D. Lee, Reza Zadeh . Statistics Department and ICME, Stanford University, 2014. http://stanford.edu/~rezab/papers/fastals.pdf"
   ]
  },
  {
   "cell_type": "markdown",
   "metadata": {},
   "source": [
    "# 3. Usecase : Music recommender system\n",
    "\n",
    "In this usecase, we use the data of users and artists in the previous sections to build a statistical model to recommend artists for users.\n",
    " \n",
    "## 3.1 Requirements\n",
    "According to the properties of data, we need to choose a recommender algorithm that is suitable for this implicit feedback data. It means that the algorithm should learn without access to user or artist attributes such as age, genre,.... Therefore, an algorithm of type `collaborative filtering` is the best choice.\n",
    "\n",
    "Second, in the data, there are some users that have listened to only 1 artist. We need an algorithm that might provide decent recommendations to even these users. After all, at some point, every user starts out with just one play at some point! \n",
    "\n",
    "Third, we need an algorithm that scales, both in its ability to build large models, and to create recommendations quickly. So, an algorithm which can run on a distributed system (SPARK, Hadoop...) is very suitable.\n",
    "\n",
    "From these requirement, we can choose using ALS algorithm in SPARK's MLLIB.\n",
    "\n",
    "Spark MLlib’s ALS implementation draws on ideas from [1](http://yifanhu.net/PUB/cf.pdf) and [2](http://link.springer.com/chapter/10.1007%2F978-3-540-68880-8_32).\n",
    "\n",
    "## 3.2 Notes\n",
    "\n",
    "Currently, MLLIB can only build models from an RDD. That means we have two ways to prepare data:\n",
    "\n",
    "* Loading to into SPARK SQL DataFrame as before, and then access the corresponding RDD by calling `<dataframe>.rdd`. The invalid data is often sucessfully dropped by using mode `DROPMALFORMED`. However, this way might not work in all cases. Fortunately, we can use it with this usecase.\n",
    "\n",
    "* Loading data directly to RDD. However, we have to deal with the invalid data ourself. In the trade-off, this way is the most reliable, and can work in every case.\n",
    "\n",
    "In this notebook, we will use the second approach: it requires a bit more effort, but the reward is worth it!\n",
    "\n",
    " \n",
    "## 3.3 Cleanup the data\n",
    "In section 1, we already replaced the ids of mispelled artists by the corresponding standard ids by using SPARK SQL API.\n",
    "However, if the data has the invalid entries such that SPARK SQL API is stuck, the best way to work with it is using an RDD.\n",
    "\n",
    "Just as a recall, we work with three datasets in `user_artist_data.txt`, `` and `artist_alias.txt`. The entries in these file can be empty or have only one field. \n",
    "\n",
    "In details our goal now is:\n",
    "\n",
    "* Read the input ```user_artist_data.txt``` and transforms its representation into an output dataset.\n",
    "* To produce an output \"tuple\" containing the original user identifier and play counts, but with the artist identifier replaced by its most common alias, as found in the ```artist_alias.txt``` dataset.\n",
    "* Since the ```artist_alias.txt``` file is small, we can use a technique called **broadcast variables** to make such transformation more efficient.\n"
   ]
  },
  {
   "cell_type": "markdown",
   "metadata": {},
   "source": [
    "### Question 6\n",
    "\n",
    "#### Question 6.1\n",
    "Load data from `/datasets/lastfm/artist_alias.txt` and filter out the invalid entries to construct a dictionary to map from mispelled artists' ids to standard ids.\n",
    "\n",
    "NOTE: From now on, we will use the \"standard\" data to train our model.\n",
    "\n",
    "HINT: If a line contains less than 2 fields or contains invalid numerial values, we can return a special tuple. After that, we can filter out these special tuples."
   ]
  },
  {
   "cell_type": "code",
   "execution_count": 42,
   "metadata": {
    "collapsed": true
   },
   "outputs": [],
   "source": [
    "rawArtistAlias = sc.textFile(base + \"artist_alias.txt\")\n",
    "\n",
    "def xtractFields(s):\n",
    "    # Using white space or tab character as separetors,\n",
    "    # split a line into list of strings \n",
    "    line = re.split(\"\\s|\\t\",s,1)\n",
    "    # if this line has at least 2 characters\n",
    "    if (len(line) > 1):\n",
    "        try:\n",
    "            # try to parse the first and the second components to integer type\n",
    "            return (int(line[0]), int(line[1]))\n",
    "        except ValueError:\n",
    "            # if parsing has any error, return a special tuple\n",
    "            return (-1,-1)\n",
    "    else:\n",
    "        # if this line has less than 2 characters, return a special tuple\n",
    "        return (-1,-1)\n",
    "\n",
    "artistAlias = (\n",
    "                rawArtistAlias\n",
    "                    # extract fields using function xtractFields\n",
    "                    .map( lambda x: xtractFields(x) )\n",
    "\n",
    "                    # fileter out the special tuples\n",
    "                    .filter( lambda x: x != (-1,-1) )\n",
    "\n",
    "                    # collect result to the driver as a \"dictionary\"\n",
    "                    .collectAsMap()\n",
    "                )\n",
    "#print(artistAlias)"
   ]
  },
  {
   "cell_type": "markdown",
   "metadata": {
    "collapsed": false
   },
   "source": [
    "#### Question 6.2\n",
    "Using the dictionary in question 6.1, prepare RDD `userArtistDataRDD` by replacing mispelled artists' ids to standard ids. Show 5 samples.\n",
    "\n",
    "HINT: Using broadcast varible can help us increase the effiency."
   ]
  },
  {
   "cell_type": "code",
   "execution_count": 43,
   "metadata": {
    "collapsed": false
   },
   "outputs": [
    {
     "data": {
      "text/plain": [
       "[('1000002', '1', '55'),\n",
       " ('1000002', '1000006', '33'),\n",
       " ('1000002', '1000007', '8'),\n",
       " ('1000002', '1000009', '144'),\n",
       " ('1000002', '1000010', '314')]"
      ]
     },
     "execution_count": 43,
     "metadata": {},
     "output_type": "execute_result"
    }
   ],
   "source": [
    "bArtistAlias = sc.broadcast(artistAlias)\n",
    "rawUserArtistData = sc.textFile(base + \"user_artist_data.txt\")\n",
    "\n",
    "def disambiguate(line):\n",
    "    [userID, artistID, count] = line.split(' ')\n",
    "    finalArtistID = bArtistAlias.value.get(artistID, artistID)\n",
    "    return (userID, finalArtistID, count)\n",
    "\n",
    "userArtistDataRDD = rawUserArtistData.map(lambda line: disambiguate(line))\n",
    "userArtistDataRDD.take(5)"
   ]
  },
  {
   "cell_type": "markdown",
   "metadata": {},
   "source": [
    "--------------------------------------------------\n",
    "#  Comments:\n",
    "\n",
    "The first five items of the RDD version of the cleaned data seem to be the same as in the dataframe version. This is a positive indication of a succesful operation.\n",
    "\n",
    "--------------------------------------------------"
   ]
  },
  {
   "cell_type": "markdown",
   "metadata": {},
   "source": [
    "## 3.4 Training our statistical model\n",
    "To train a model using ALS, we must use a preference matrix  as an input. MLLIB uses the class `Rating` to support the construction of a distributed preference matrix."
   ]
  },
  {
   "cell_type": "markdown",
   "metadata": {},
   "source": [
    "### Question 7\n",
    "\n",
    "#### Question 7.1\n",
    "Given RDD `userArtistDataRDD` in question 6.2, construct a new RDD `trainingData` by tranforming each item of it into a `Rating` object."
   ]
  },
  {
   "cell_type": "code",
   "execution_count": 44,
   "metadata": {
    "collapsed": false
   },
   "outputs": [],
   "source": [
    "from pyspark.mllib.recommendation import ALS, MatrixFactorizationModel, Rating"
   ]
  },
  {
   "cell_type": "code",
   "execution_count": 45,
   "metadata": {
    "collapsed": true
   },
   "outputs": [],
   "source": [
    "allData = userArtistDataRDD.map(lambda r: Rating(r[0], r[1], r[2])).repartition(6).cache()"
   ]
  },
  {
   "cell_type": "markdown",
   "metadata": {},
   "source": [
    "--------------------------------------------------\n",
    "#  Comments:\n",
    "\n",
    "We repartitioned the data into 6 partitions, 3 per worker, and two cores per partition. We believe this is a good compromise between 2 (1 per worker) and 12 (1 per core), as we don't know exactly how relatively CPU or memory heavy our computations are.\n",
    "\n",
    "--------------------------------------------------"
   ]
  },
  {
   "cell_type": "markdown",
   "metadata": {
    "collapsed": false
   },
   "source": [
    "#### Question 7.2\n",
    "A model can be trained by using `ALS.trainImplicit(<training data>, <rank>)`, where:\n",
    "* `training data` is the input data you decide to feed to the ALS algorithm\n",
    "* `rank` is the number of laten features\n",
    "\n",
    "We can also use some additional parameters to adjust the quality of the model. Currently, let's set \n",
    "\n",
    "- `rank=10`\n",
    "- `iterations=5`\n",
    "- `lambda_=0.01`\n",
    "- `alpha=1.0` \n",
    "\n",
    "to build model."
   ]
  },
  {
   "cell_type": "code",
   "execution_count": 46,
   "metadata": {
    "collapsed": false
   },
   "outputs": [
    {
     "name": "stdout",
     "output_type": "stream",
     "text": [
      "finish training model in 112.101650 secs\n"
     ]
    }
   ],
   "source": [
    "t0 = time()\n",
    "model = ALS.trainImplicit( allData,rank=10, iterations=5, lambda_=0.01, alpha=1.0)\n",
    "t1 = time()\n",
    "print(\"finish training model in %f secs\" % (t1 - t0))"
   ]
  },
  {
   "cell_type": "markdown",
   "metadata": {},
   "source": [
    "--------------------------------------------------\n",
    "#  Comments:\n",
    "\n",
    "We used the Spark MLLIB library's ALS implementation to train our first model with the given hyperparameters and it took ~112 seconds.\n",
    "\n",
    "--------------------------------------------------"
   ]
  },
  {
   "cell_type": "markdown",
   "metadata": {},
   "source": [
    "#### Question 7.3\n",
    "The trained model can be saved into HDFS for later use. This can be done via `model.save(sc, <file_name>)`.\n",
    "Let's use this function to store our model as name `lastfm_model.spark`.\n",
    "\n",
    "NOTE 1: since you may have noticed that building the model takes some time, it might come to your mind that this information could be stored, such that you can \"interrupt\" your laboratory session here, and restart next time by loading your model.\n",
    "\n",
    "NOTE 2: funnily enough, it could take more time to save the model than to build it from scratch! So take a look at the execution time to save the model: this method actually stores the model as Parquet files, which are column-oriented and compressed.\n",
    "\n",
    "NOTE 3: to check you have your file on HDFS, you are invited to open a terminal from the \"Home\" Jupyter dashboard, and type `hdfs dfs -ls` to check."
   ]
  },
  {
   "cell_type": "code",
   "execution_count": 49,
   "metadata": {
    "collapsed": false
   },
   "outputs": [
    {
     "name": "stdout",
     "output_type": "stream",
     "text": [
      "Deleted lastfm_model.spark\r\n"
     ]
    }
   ],
   "source": [
    "! hdfs dfs -rm -R -f -skipTrash lastfm_model.spark\n",
    "model.save( sc , 'lastfm_model.spark')\n"
   ]
  },
  {
   "cell_type": "code",
   "execution_count": 62,
   "metadata": {
    "collapsed": false
   },
   "outputs": [
    {
     "name": "stdout",
     "output_type": "stream",
     "text": [
      "Found 1 items\n",
      "drwxr-xr-x   - user3 supergroup          0 2017-03-20 13:47 lastfm_model.spark\n",
      "/root/work\n"
     ]
    }
   ],
   "source": [
    "!hdfs dfs -ls\n",
    "!pwd"
   ]
  },
  {
   "cell_type": "markdown",
   "metadata": {},
   "source": [
    "--------------------------------------------------\n",
    "#  Comments:\n",
    "\n",
    "Before saving the newly trained model, we delete any existing files with the same name from the HDFS. After this we save the new model, and then check that it actually was created.\n",
    "\n",
    "--------------------------------------------------"
   ]
  },
  {
   "cell_type": "markdown",
   "metadata": {},
   "source": [
    "#### Question 7.4\n",
    "A saved model can be load from file by using `MatrixFactorizationModel.load(sc, <file_name>)`. \n",
    "\n",
    "Let's load our model from file."
   ]
  },
  {
   "cell_type": "code",
   "execution_count": 61,
   "metadata": {
    "collapsed": false
   },
   "outputs": [
    {
     "name": "stdout",
     "output_type": "stream",
     "text": [
      "finish loading model in 3.211661 secs\n"
     ]
    }
   ],
   "source": [
    "t0 = time()\n",
    "model = MatrixFactorizationModel.load( sc , 'lastfm_model.spark')\n",
    "t1 = time()\n",
    "print(\"finish loading model in %f secs\" % (t1 - t0))"
   ]
  },
  {
   "cell_type": "markdown",
   "metadata": {},
   "source": [
    "#### Question 7.5\n",
    "Print the first row of user features in our model."
   ]
  },
  {
   "cell_type": "code",
   "execution_count": 63,
   "metadata": {
    "collapsed": false
   },
   "outputs": [
    {
     "data": {
      "text/plain": [
       "(120,\n",
       " array('d', [-0.01854972168803215, 0.3144876956939697, -0.16633136570453644, -0.13560131192207336, -0.03735937550663948, 0.12283424288034439, 0.09582436084747314, -0.09814257174730301, 0.2222362458705902, -0.07614865899085999]))"
      ]
     },
     "execution_count": 63,
     "metadata": {},
     "output_type": "execute_result"
    }
   ],
   "source": [
    "model.userFeatures().first()"
   ]
  },
  {
   "cell_type": "markdown",
   "metadata": {},
   "source": [
    "--------------------------------------------------\n",
    "#  Comments:\n",
    "\n",
    "Seeing believable values in the first user features shows that our model was succesfully created, saved and loaded.\n",
    "\n",
    "--------------------------------------------------"
   ]
  },
  {
   "cell_type": "markdown",
   "metadata": {},
   "source": [
    "### Question 8\n",
    "Show the top-5 artist names recommendated for user `2093760`.\n",
    "\n",
    "HINT: The recommendations can be given by function `recommendProducts(userID, num_recommendations)`. These recommendations are only artist ids. You have to map them to artist names by using data in `artist_data.txt`."
   ]
  },
  {
   "cell_type": "code",
   "execution_count": 64,
   "metadata": {
    "collapsed": false
   },
   "outputs": [],
   "source": [
    "# Make five reccommendations to user 2093760\n",
    "recommendations = (model.recommendProducts(2093760, 15))\n",
    "\n",
    "\n",
    "# construct set of recommendated artists\n",
    "recArtist = set(x[1] for x in recommendations)\n"
   ]
  },
  {
   "cell_type": "code",
   "execution_count": 65,
   "metadata": {
    "collapsed": true
   },
   "outputs": [],
   "source": [
    "# construct data of artists (artist_id, artist_name)\n",
    "\n",
    "rawArtistData = sc.textFile(base + \"artist_data.txt\")\n",
    "\n",
    "def xtractFields(s):\n",
    "    line = re.split(\"\\s|\\t\",s,1)\n",
    "    if (len(line) > 1):\n",
    "        try:\n",
    "            return (int(line[0]), str(line[1].strip()))\n",
    "        except ValueError:\n",
    "            return (-1,\"\")\n",
    "    else: \n",
    "        return (-1,\"\")\n",
    "\n",
    "artistByID = rawArtistData.map(xtractFields).filter(lambda x: x[0] > 0)\n",
    "\n",
    "a = set((1,2,3))\n"
   ]
  },
  {
   "cell_type": "code",
   "execution_count": 66,
   "metadata": {
    "collapsed": false
   },
   "outputs": [
    {
     "name": "stdout",
     "output_type": "stream",
     "text": [
      "['Notorious B.I.G.', '50 Cent', 'DMX', 'Snoop Dogg', 'Nelly', 'Nas', 'Jay-Z', 'Kanye West', 'Dr. Dre', 'Ludacris', '2Pac', 'Eminem', 'Outkast', 'The Roots', 'The Game']\n"
     ]
    }
   ],
   "source": [
    "# Filter in those artists, get just artist, and print\n",
    "def artistNames(line):\n",
    "#     [artistID, name]\n",
    "    if (line[0] in recArtist):\n",
    "        return True\n",
    "    else:\n",
    "        return False\n",
    "\n",
    "recList = artistByID.filter(lambda x: artistNames(x)).values().collect()\n",
    "\n",
    "print(recList)\n",
    "\n"
   ]
  },
  {
   "cell_type": "markdown",
   "metadata": {},
   "source": [
    "--------------------------------------------------\n",
    "#  Comments:\n",
    "\n",
    "We succesfully recommended fifteen artistIDs to the given user. Then read the artistID - name data, and mapped the proper names to the recommended artistIDs.\n",
    "\n",
    "--------------------------------------------------"
   ]
  },
  {
   "cell_type": "markdown",
   "metadata": {},
   "source": [
    "#### IMPORTANT NOTE\n",
    "\n",
    "At the moment, it is necessary to manually unpersist the RDDs inside the model when you are done with it. The following function can be used to make sure models are promptly uncached."
   ]
  },
  {
   "cell_type": "code",
   "execution_count": 49,
   "metadata": {
    "collapsed": false
   },
   "outputs": [],
   "source": [
    "\n",
    "def unpersist(model):\n",
    "    model.userFeatures().unpersist()\n",
    "    model.productFeatures().unpersist()\n",
    "\n",
    "# uncache data and model when they are no longer used  \n",
    "unpersist(model)"
   ]
  },
  {
   "cell_type": "markdown",
   "metadata": {},
   "source": [
    "--------------------------------------------------\n",
    "#  Comments:\n",
    "\n",
    "Here we define a function in order to easily uncache models in the future. Which will be useful when looping through different combinations of hyperparameters.\n",
    "\n",
    "--------------------------------------------------"
   ]
  },
  {
   "cell_type": "markdown",
   "metadata": {
    "collapsed": true
   },
   "source": [
    "## 3.5 Evaluating Recommendation Quality \n",
    "\n",
    "In this section, we study how to evaluate the quality of our model. It's hard to say how good the recommendations are.\n",
    "One of serveral methods approach to evaluate  a recommender based on its ability to rank good items (artists) high in a list of recommendations. The problem is how to define \"good artists\". Currently, by training all data, \"good artists\" is defined as \"artists the user has listened to\", and the recommender system has already received all of this information as input. It could trivially return the users previously-listened artists as top recommendations and score perfectly. Indeed, this is not useful, because the recommender's is used to recommend artists that the user has **never** listened to. \n",
    "\n",
    "To overcome that problem, we can hide the some of the artist play data and only use the rest to train model. Then, this held-out data can be interpreted as a collection of \"good\" recommendations for each user. The recommender is asked to rank all items in the model, and the rank of the held-out artists are examined. Ideally the recommender places all of them at or near the top of the list.\n",
    "\n",
    "The recommender's score can then be computed by comparing all held-out artists' ranks to the rest.  The fraction of pairs where the held-out artist is ranked higher is its score. 1.0 is perfect, 0.0 is the worst possible score, and 0.5 is the expected value achieved from randomly ranking artists. \n",
    "\n",
    "AUC(Area Under the Curve) can be used as a metric to evaluate model. It is also viewed as the probability that a randomly-chosen \"good\" artist ranks above a randomly-chosen \"bad\" artist.\n",
    "\n",
    "Next, we split the training data into 2 parts: `trainData` and `cvData` with ratio 0.9:0.1 respectively, where `trainData` is the dataset that will be used to train model. Then we write a function to calculate AUC to evaluate the quality of our model.\n"
   ]
  },
  {
   "cell_type": "markdown",
   "metadata": {},
   "source": [
    "### Question 9\n",
    "\n",
    "#### Question 9.1\n",
    "Split the data into `trainData` and `cvData` with ratio 0.9:0.1 and use the first part to train a statistic model with:\n",
    "\n",
    "- rank=10\n",
    "- iterations=5\n",
    "- lambda_=0.01\n",
    "- alpha=1.0"
   ]
  },
  {
   "cell_type": "code",
   "execution_count": 50,
   "metadata": {
    "collapsed": false
   },
   "outputs": [
    {
     "data": {
      "text/plain": [
       "PythonRDD[472] at RDD at PythonRDD.scala:48"
      ]
     },
     "execution_count": 50,
     "metadata": {},
     "output_type": "execute_result"
    }
   ],
   "source": [
    "trainData, cvData = allData.randomSplit([.9,.1])\n",
    "trainData.cache()\n",
    "cvData.cache()"
   ]
  },
  {
   "cell_type": "code",
   "execution_count": 54,
   "metadata": {
    "collapsed": false
   },
   "outputs": [
    {
     "name": "stdout",
     "output_type": "stream",
     "text": [
      "finish training model in 267.631398 secs\n"
     ]
    }
   ],
   "source": [
    "t0 = time()\n",
    "model = ALS.trainImplicit(trainData, rank=10, iterations=5, lambda_=0.01, alpha=1.0)\n",
    "t1 = time()\n",
    "print(\"finish training model in %f secs\" % (t1 - t0))"
   ]
  },
  {
   "cell_type": "markdown",
   "metadata": {},
   "source": [
    "--------------------------------------------------\n",
    "#  Comments:\n",
    "\n",
    "The core dataset used for the creation of the models, userArtistPlayCount, is split into a training and cross validation parts. This is in order for us to train models with the training data, and then evaluate their performance (AUC) against the so far unseen cross validation data set.\n",
    "\n",
    "--------------------------------------------------"
   ]
  },
  {
   "cell_type": "markdown",
   "metadata": {},
   "source": [
    "#### Area under the ROC curve: a function to compute it"
   ]
  },
  {
   "cell_type": "code",
   "execution_count": 51,
   "metadata": {
    "collapsed": true
   },
   "outputs": [],
   "source": [
    "# Get all unique artistId, and broadcast them\n",
    "allItemIDs = np.array(allData.map(lambda x: x[1]).distinct().collect())\n",
    "bAllItemIDs = sc.broadcast(allItemIDs)"
   ]
  },
  {
   "cell_type": "code",
   "execution_count": 52,
   "metadata": {
    "collapsed": false
   },
   "outputs": [],
   "source": [
    "from random import randint\n",
    "\n",
    "# Depend on the number of item in userIDAndPosItemIDs,\n",
    "# create a set of \"negative\" products for each user. These are randomly chosen\n",
    "# from among all of the other items, excluding those that are \"positive\" for the user.\n",
    "# NOTE 1: mapPartitions operates on many (user,positive-items) pairs at once\n",
    "# NOTE 2: flatMap breaks the collections above down into one big set of tuples\n",
    "def xtractNegative(userIDAndPosItemIDs):\n",
    "    def pickEnoughNegatives(line):\n",
    "        userID = line[0]\n",
    "        posItemIDSet = set(line[1])\n",
    "        #posItemIDSet = line[1]\n",
    "        negative = []\n",
    "        allItemIDs = bAllItemIDs.value\n",
    "        # Keep about as many negative examples per user as positive. Duplicates are OK.\n",
    "        i = 0\n",
    "        while (i < len(allItemIDs) and len(negative) < len(posItemIDSet)):\n",
    "            itemID = allItemIDs[randint(0,len(allItemIDs)-1)]\n",
    "            if itemID not in posItemIDSet:\n",
    "                negative.append(itemID)\n",
    "            i += 1\n",
    "        \n",
    "        # Result is a collection of (user,negative-item) tuples\n",
    "        return map(lambda itemID: (userID, itemID), negative)\n",
    "\n",
    "    # Init an RNG and the item IDs set once for partition\n",
    "    # allItemIDs = bAllItemIDs.value\n",
    "    return map(pickEnoughNegatives, userIDAndPosItemIDs)\n",
    "\n",
    "def ratioOfCorrectRanks(positiveRatings, negativeRatings):\n",
    "    \n",
    "    # find number elements in arr that has index >= start and has value smaller than x\n",
    "    # arr is a sorted array\n",
    "    def findNumElementsSmallerThan(arr, x, start=0):\n",
    "        left = start\n",
    "        right = len(arr) -1\n",
    "        # if x is bigger than the biggest element in arr\n",
    "        if start > right or x > arr[right]:\n",
    "            return right + 1\n",
    "        mid = -1\n",
    "        while left <= right:\n",
    "            mid = (left + right) // 2\n",
    "            if arr[mid] < x:\n",
    "                left = mid + 1\n",
    "            elif arr[mid] > x:\n",
    "                right = mid - 1\n",
    "            else:\n",
    "                while mid-1 >= start and arr[mid-1] == x:\n",
    "                    mid -= 1\n",
    "                return mid\n",
    "        return mid if arr[mid] > x else mid + 1\n",
    "    \n",
    "    ## AUC may be viewed as the probability that a random positive item scores\n",
    "    ## higher than a random negative one. Here the proportion of all positive-negative\n",
    "    ## pairs that are correctly ranked is computed. The result is equal to the AUC metric.\n",
    "    correct = 0 ## L\n",
    "    total = 0 ## L\n",
    "    \n",
    "    # sorting positiveRatings array needs more cost\n",
    "    #positiveRatings = np.array(map(lambda x: x.rating, positiveRatings))\n",
    "\n",
    "    negativeRatings = list(map(lambda x:x.rating, negativeRatings))\n",
    "    \n",
    "    #np.sort(positiveRatings)\n",
    "    negativeRatings.sort()# = np.sort(negativeRatings)\n",
    "    total = len(positiveRatings)*len(negativeRatings)\n",
    "    \n",
    "    for positive in positiveRatings:\n",
    "        # Count the correctly-ranked pairs\n",
    "        correct += findNumElementsSmallerThan(negativeRatings, positive.rating)\n",
    "        \n",
    "    ## Return AUC: fraction of pairs ranked correctly\n",
    "    return float(correct) / total\n",
    "\n",
    "def calculateAUC(positiveData, bAllItemIDs, predictFunction):\n",
    "    # Take held-out data as the \"positive\", and map to tuples\n",
    "    positiveUserProducts = positiveData.map(lambda r: (r[0], r[1]))\n",
    "    # Make predictions for each of them, including a numeric score, and gather by user\n",
    "    positivePredictions = predictFunction(positiveUserProducts).groupBy(lambda r: r.user)\n",
    "    \n",
    "    # Create a set of \"negative\" products for each user. These are randomly chosen \n",
    "    # from among all of the other items, excluding those that are \"positive\" for the user. \n",
    "    negativeUserProducts = positiveUserProducts.groupByKey().mapPartitions(xtractNegative).flatMap(lambda x: x)\n",
    "    # Make predictions on the rest\n",
    "    negativePredictions = predictFunction(negativeUserProducts).groupBy(lambda r: r.user)\n",
    "    \n",
    "    return (\n",
    "            positivePredictions.join(negativePredictions)\n",
    "                .values()\n",
    "                .map(\n",
    "                    lambda positive_negativeRatings: ratioOfCorrectRanks(positive_negativeRatings[0], positive_negativeRatings[1])\n",
    "                )\n",
    "                .mean()\n",
    "            )"
   ]
  },
  {
   "cell_type": "markdown",
   "metadata": {},
   "source": [
    "####  Question 9.2\n",
    "Using part `cvData` and function `calculateAUC` to compute the AUC of the trained model."
   ]
  },
  {
   "cell_type": "code",
   "execution_count": 61,
   "metadata": {
    "collapsed": false
   },
   "outputs": [
    {
     "name": "stdout",
     "output_type": "stream",
     "text": [
      "auc= 0.9654146120472089\n",
      "finish in 78.570066 seconds\n"
     ]
    }
   ],
   "source": [
    "t0 = time()\n",
    "auc = calculateAUC(cvData, bAllItemIDs, model.predictAll)\n",
    "t1 = time()\n",
    "print(\"auc=\",auc)\n",
    "print(\"finish in %f seconds\" % (t1 - t0))"
   ]
  },
  {
   "cell_type": "markdown",
   "metadata": {},
   "source": [
    "--------------------------------------------------\n",
    "#  Comments:\n",
    "\n",
    "Here we calculate the AUC of the model created with training data against the cross validation data with the given functions. With the training/cv ratio of 90:10, iteration count of 5 and rank of 10, we notice that computing the AUC takes ~80 seconds while the training of the model takes ~270 seconds. It is interesting to see that the evaluation of the model takes a substantial amount of time.\n",
    "\n",
    "--------------------------------------------------"
   ]
  },
  {
   "cell_type": "markdown",
   "metadata": {},
   "source": [
    "#### Question 9.3\n",
    "Now we have the UAC of our model, it’s helpful to benchmark this against a simpler approach. For example, consider recommending the globally most-played artists to every user. This is not personalized, but is simple and may be effective. \n",
    "\n",
    "Implement this simple pupolarity-based prediction algorithm, evaluate its AUC score, and compare to the results achieved by the more sophisticated ALS algorithm."
   ]
  },
  {
   "cell_type": "code",
   "execution_count": 53,
   "metadata": {
    "collapsed": false
   },
   "outputs": [],
   "source": [
    "from operator import add\n",
    "bListenCount = sc.broadcast(trainData.map(lambda r: (r[1], r[2])).reduceByKey(add).collectAsMap())\n",
    "def predictMostListened(allData):\n",
    "    return allData.map(lambda r: Rating(r[0], r[1], bListenCount.value.get( r[1] , 0.0)))"
   ]
  },
  {
   "cell_type": "code",
   "execution_count": 63,
   "metadata": {
    "collapsed": false
   },
   "outputs": [
    {
     "name": "stdout",
     "output_type": "stream",
     "text": [
      "0.9373705727205959\n"
     ]
    }
   ],
   "source": [
    "auc = calculateAUC(cvData, bAllItemIDs, predictMostListened)\n",
    "print(auc)"
   ]
  },
  {
   "cell_type": "markdown",
   "metadata": {},
   "source": [
    "--------------------------------------------------\n",
    "#  Comments:\n",
    "\n",
    "Here we see that recommending the globally most-played artist to everyone is not a bad approach. It can be considered a good, simple benchmark to the ML approaches. Gladly, we see that the ALS model beat the benchmark by enough of a margin to be considered useful.\n",
    "\n",
    "There is something that we weren't able to figure out: whether this approach recommends artists to a user he has already listened to? This is obviously a crucial factor in determining the quality of the approach, and if its' AUC value should be considered truthful.\n",
    "\n",
    "--------------------------------------------------"
   ]
  },
  {
   "cell_type": "markdown",
   "metadata": {
    "collapsed": true
   },
   "source": [
    "## 3.6 Personalized recommendations with ALS\n",
    "\n",
    "In the previous section, we build our models with some given paramters without any knowledge about them. Actually, choosing the best parameters' values is very important. It can significantly affect the quality of models. Especially, with the current implementation of ALS in MLLIB, these parameters are not learned by the algorithm, and must be chosen by the caller. The following parameters should get consideration before training models:\n",
    "\n",
    "* `rank = 10`: the number of latent factors in the model, or equivalently, the number of columns $k$ in the user-feature and product-feature matrices. In non-trivial cases, this is also their rank. \n",
    "\n",
    "* `iterations = 5`: the number of iterations that the factorization runs. Instead of runing the algorithm until RMSE converged which actually takes very long time to finish with large datasets, we only let it run in a given number of iterations. More iterations take more time but may produce a better factorization.\n",
    "\n",
    "* `lambda_ = 0.01`: a standard overfitting parameter. Higher values resist overfitting, but values that are too high hurt the factorization's accuracy.\n",
    "\n",
    "*  `alpha = 1.0`: controls the relative weight of observed versus unobserved userproduct interactions in the factorization. \n",
    "\n",
    "Although all of them have impact on the models' quality, `iterations` is more of a constraint on resources used in the factorization. So, `rank`, `lambda_` and `alpha` can be considered hyperparameters to the model. \n",
    "We will try to find \"good\" values for them. Indeed, the values of hyperparameter are not necessarily optimal. Choosing good hyperparameter values is a common problem in machine learning. The most basic way to choose values is to simply try combinations of values and evaluate a metric for each of them, and choose the combination that produces the best value of the metric. \n"
   ]
  },
  {
   "cell_type": "markdown",
   "metadata": {
    "collapsed": true
   },
   "source": [
    "### Question 10\n",
    "\n",
    "#### Question 10.1\n",
    "For simplicity, assume that we want to explore the following parameter space: $ rank \\in \\{10, 50\\}$, $lambda\\_ \\in \\{1.0, 0.0001\\}$ and $alpha \\in \\{1.0, 40.0\\}$.\n",
    "\n",
    "Find the best combination of them in terms of the highest AUC value."
   ]
  },
  {
   "cell_type": "code",
   "execution_count": 94,
   "metadata": {
    "collapsed": false
   },
   "outputs": [
    {
     "name": "stdout",
     "output_type": "stream",
     "text": [
      "Train model with rank=10 lambda_=1.000000 alpha=1.000000\n",
      "Train model with rank=10 lambda_=1.000000 alpha=40.000000\n",
      "Train model with rank=10 lambda_=1.000000 alpha=70.000000\n",
      "Train model with rank=10 lambda_=0.010000 alpha=1.000000\n",
      "Train model with rank=10 lambda_=0.010000 alpha=40.000000\n",
      "Train model with rank=10 lambda_=0.010000 alpha=70.000000\n",
      "Train model with rank=10 lambda_=0.000100 alpha=1.000000\n",
      "Train model with rank=10 lambda_=0.000100 alpha=40.000000\n",
      "Train model with rank=10 lambda_=0.000100 alpha=70.000000\n",
      "Train model with rank=50 lambda_=1.000000 alpha=1.000000\n",
      "Train model with rank=50 lambda_=1.000000 alpha=40.000000\n",
      "Train model with rank=50 lambda_=1.000000 alpha=70.000000\n",
      "Train model with rank=50 lambda_=0.010000 alpha=1.000000\n",
      "Train model with rank=50 lambda_=0.010000 alpha=40.000000\n",
      "Train model with rank=50 lambda_=0.010000 alpha=70.000000\n",
      "Train model with rank=50 lambda_=0.000100 alpha=1.000000\n",
      "Train model with rank=50 lambda_=0.000100 alpha=40.000000\n",
      "Train model with rank=50 lambda_=0.000100 alpha=70.000000\n",
      "                     0         1\n",
      "0      (50, 1.0, 70.0)  0.977506\n",
      "1      (10, 1.0, 70.0)  0.977120\n",
      "2      (10, 1.0, 40.0)  0.977120\n",
      "3     (50, 0.01, 70.0)  0.976801\n",
      "4   (10, 0.0001, 70.0)  0.976638\n",
      "5   (50, 0.0001, 70.0)  0.976592\n",
      "6     (10, 0.01, 70.0)  0.976327\n",
      "7      (50, 1.0, 40.0)  0.975645\n",
      "8   (10, 0.0001, 40.0)  0.975560\n",
      "9     (10, 0.01, 40.0)  0.974960\n",
      "10  (50, 0.0001, 40.0)  0.974684\n",
      "11    (50, 0.01, 40.0)  0.974491\n",
      "12      (10, 1.0, 1.0)  0.969025\n",
      "13      (50, 1.0, 1.0)  0.967011\n",
      "14     (10, 0.01, 1.0)  0.966952\n",
      "15   (10, 0.0001, 1.0)  0.966663\n",
      "16     (50, 0.01, 1.0)  0.953235\n",
      "17   (50, 0.0001, 1.0)  0.952762\n"
     ]
    },
    {
     "data": {
      "text/plain": [
       "PythonRDD[502] at RDD at PythonRDD.scala:48"
      ]
     },
     "execution_count": 94,
     "metadata": {},
     "output_type": "execute_result"
    }
   ],
   "source": [
    "evaluations = []\n",
    "\n",
    "for rank in [10, 50]:\n",
    "    for lambda_ in [1.0, 0.01, 0.0001]:\n",
    "        for alpha in [1.0, 40.0, 70.0]:\n",
    "            print(\"Train model with rank=%d lambda_=%f alpha=%f\" % (rank, lambda_, alpha))\n",
    "            # with each combination of params, we should run multiple times and get avg\n",
    "            # for simple, we only run one time.\n",
    "            model = ALS.trainImplicit(trainData, rank=rank, iterations=4, lambda_=lambda_, alpha=alpha)\n",
    "            \n",
    "            auc = calculateAUC(cvData, bAllItemIDs, model.predictAll)\n",
    "            \n",
    "            evaluations.append(((rank, lambda_, alpha), auc))\n",
    "            \n",
    "            unpersist(model)\n",
    "\n",
    "evaluations.sort(key=lambda x: -x[1])\n",
    "                 \n",
    "evalDataFrame = pd.DataFrame(data=evaluations)\n",
    "print(evalDataFrame)\n",
    "\n",
    "trainData.unpersist()\n",
    "cvData.unpersist()"
   ]
  },
  {
   "cell_type": "markdown",
   "metadata": {},
   "source": [
    "--------------------------------------------------\n",
    "#  Comments:\n",
    "\n",
    "As instructed, we trained models with a combination of different hyperparameters in order to find out the optimal combination. The resulting AUCs all were better than the benchmark (0.937) ranging between 0.952 and 0.978. Noticing a pattern towards higher alphas being favorable, we included 70.0 as the third alpha value. \n",
    "\n",
    "--------------------------------------------------"
   ]
  },
  {
   "cell_type": "markdown",
   "metadata": {
    "collapsed": true
   },
   "source": [
    "#### Question 10.2 \n",
    "\n",
    "Using \"optimal\" hyper-parameters in question 10.1, re-train the model and show top-5 artist names recommendated for user 2093760."
   ]
  },
  {
   "cell_type": "code",
   "execution_count": 77,
   "metadata": {
    "collapsed": false
   },
   "outputs": [],
   "source": [
    "model = ALS.trainImplicit( trainData, rank=50, iterations=5, lambda_=1.0, alpha=70.0 )\n",
    "allData.unpersist()\n",
    "\n",
    "userID = 2093760\n",
    "recommendations = model.recommendProducts(userID, 15)\n",
    "\n",
    "recommendedProductIDs = set(x[1] for x in recommendations)\n",
    "\n",
    "recList = artistByID.filter(lambda x: artistNames(x)).values().collect()\n",
    "unpersist(model)"
   ]
  },
  {
   "cell_type": "code",
   "execution_count": 89,
   "metadata": {
    "collapsed": false
   },
   "outputs": [
    {
     "name": "stdout",
     "output_type": "stream",
     "text": [
      "  Artist Recommendation\n",
      "0      Notorious B.I.G.\n",
      "1               50 Cent\n",
      "2                   DMX\n",
      "3            Snoop Dogg\n",
      "4                 Nelly\n"
     ]
    }
   ],
   "source": [
    "Top5RecommendedDF = pd.DataFrame(data=recList[:5])\n",
    "Top5RecommendedDF.columns = ['Artist Recommendation']\n",
    "print(Top5RecommendedDF)\n"
   ]
  },
  {
   "cell_type": "markdown",
   "metadata": {
    "collapsed": true
   },
   "source": [
    "#### Custom Experiments\n",
    "\n"
   ]
  },
  {
   "cell_type": "markdown",
   "metadata": {},
   "source": [
    "--------------------------------------------------\n",
    "#  Comments:\n",
    "\n",
    "We got interested about the subject of choosing hyperparameters. The explanation of what the hyperparameters are in the MLLIB documentation was quite vague:\n",
    "<br>\n",
    "<i>\n",
    "<li>numBlocks is the number of blocks used to parallelize computation (set to -1 to auto-configure).\n",
    "<li>rank is the number of latent factors in the model.\n",
    "<li>iterations is the number of iterations of ALS to run. ALS typically converges to a reasonable solution in 20 iterations or less.\n",
    "<li>lambda specifies the regularization parameter in ALS.\n",
    "<li>implicitPrefs specifies whether to use the explicit feedback ALS variant or one adapted for implicit feedback data.\n",
    "<li> alpha is a parameter applicable to the implicit feedback variant of ALS that governs the baseline confidence in preference observations.</i>\n",
    "<br><br>\n",
    "We tried searching online for documentation, articles or even forum discussions on how to choose proper hyperparameters, but the search didn't bring much new information. The main message was to experiment, as it differs usually case-by-case. Inspired by this, we decided to run our own tests and visualize them.\n",
    "\n",
    "\n",
    "\n",
    "\n",
    "\n",
    "--------------------------------------------------"
   ]
  },
  {
   "cell_type": "code",
   "execution_count": 70,
   "metadata": {
    "collapsed": false
   },
   "outputs": [
    {
     "name": "stderr",
     "output_type": "stream",
     "text": [
      "/opt/conda/lib/python3.5/site-packages/matplotlib/collections.py:590: FutureWarning: elementwise comparison failed; returning scalar instead, but in the future will perform elementwise comparison\n",
      "  if self._edgecolors == str('face'):\n"
     ]
    },
    {
     "data": {
      "image/png": "[encoded data removed]",
      "text/plain": [
       "<matplotlib.figure.Figure at 0x7ff545d04a58>"
      ]
     },
     "metadata": {},
     "output_type": "display_data"
    }
   ],
   "source": [
    "#print(evalDataFrame)\n",
    "\n",
    "#ranks = []\n",
    "#lambdas = []\n",
    "#alphas = []\n",
    "#aucs = []\n",
    "\n",
    "\n",
    "#for x in evalDataFrame[0].values.tolist():\n",
    "#    ranks.append(x[0])\n",
    "\n",
    "#for x in evalDataFrame[0].values.tolist():\n",
    "#    if x[1] == 1.0:\n",
    "#        lambdas.append(0)\n",
    "#    elif x[1] == 0.01:\n",
    "#        lambdas.append(-2)\n",
    "#    else:\n",
    "#        lambdas.append(-4)\n",
    "        \n",
    "#for x in evalDataFrame[0].values.tolist():\n",
    "#    alphas.append(x[2])\n",
    "    \n",
    "#for x in evalDataFrame[1].values.tolist():\n",
    "#    aucs.append(x)\n",
    "    \n",
    "    \n",
    "#print(ranks)\n",
    "#print(lambdas)\n",
    "#print(alphas)\n",
    "#print(aucs)\n",
    "\n",
    "ranks = [50, 10, 10, 50, 10, 50, 10, 50, 10, 10, 50, 50, 10, 50, 10, 10, 50, 50]\n",
    "lambdas = [0, 0, 0, -2, -4, -4, -2, 0, -4, -2, -4, -2, 0, 0, -2, -4, -2, -4]\n",
    "alphas = [70.0, 70.0, 40.0, 70.0, 70.0, 70.0, 70.0, 40.0, 40.0, 40.0, 40.0, 40.0, 1.0, 1.0, 1.0, 1.0, 1.0, 1.0]\n",
    "aucs = [0.9775062287530369, 0.9771198840683271, 0.9771195935391865, 0.9768006476488542, 0.9766380208079456, 0.9765919592201566, 0.9763271515379438, 0.9756448114381451, 0.9755603203292851, 0.9749598252073653, 0.974684445243363, 0.9744905815705145, 0.9690251438514091, 0.9670107767095343, 0.96695237016529, 0.9666630186706019, 0.9532350684501213, 0.9527619914816007]\n",
    "\n",
    "\n",
    "from mpl_toolkits.mplot3d import Axes3D\n",
    "import matplotlib.pyplot as plt\n",
    "import numpy as np\n",
    "from matplotlib import cm\n",
    "import matplotlib as mpl\n",
    "\n",
    "\n",
    "fig = plt.figure(figsize=(15,10))\n",
    "ax = fig.add_subplot(111, projection='3d')\n",
    "\n",
    "\n",
    "\n",
    "ax.set_xlabel('Rank')\n",
    "ax.set_ylabel('Lambda (10^X)')\n",
    "ax.set_zlabel('Alpha')\n",
    "\n",
    "asd = ax.scatter(ranks, lambdas, alphas, c=aucs, cmap=plt.jet(), s=200)\n",
    "plt.colorbar(asd)\n",
    "plt.show()"
   ]
  },
  {
   "cell_type": "markdown",
   "metadata": {},
   "source": [
    "--------------------------------------------------\n",
    "#  Comments:\n",
    "\n",
    "Here we have visualized the set of hyperparameters and their corresponding AUC values into a 3D graph, with the three hyperparameters representing the axes and the color of the dot indicating AUC value, as shown on the colorbar on the right. We are limited to a very low number of test parameters, as computing them takes a very long time. Based on this small set however, we concluded that clearly within these parameter ranges, an increased alpha and a decreased lambda seem to correlate positively with the AUC.\n",
    "<br><br>\n",
    "However, we wanted a larger set of test parameters so we decided to try how the approach works with smaller datasets, and whether their AUC values correlate with the actual set.\n",
    "\n",
    "--------------------------------------------------"
   ]
  },
  {
   "cell_type": "code",
   "execution_count": 54,
   "metadata": {
    "collapsed": false
   },
   "outputs": [
    {
     "data": {
      "text/plain": [
       "PythonRDD[484] at RDD at PythonRDD.scala:48"
      ]
     },
     "execution_count": 54,
     "metadata": {},
     "output_type": "execute_result"
    }
   ],
   "source": [
    "miniData1, miniData2, restData = trainData.randomSplit([.05,.05,.9])\n",
    "miniData1.cache()\n",
    "miniData2.cache()"
   ]
  },
  {
   "cell_type": "markdown",
   "metadata": {},
   "source": [
    "--------------------------------------------------\n",
    "#  Comments:\n",
    "\n",
    "Here we split the original training data to two small datasets of miniData1 and miniData2, both corresponding 5% of the size of the original training data. The amount of time required for computing the models and evaluating them dropped significantly. \n",
    "\n",
    "--------------------------------------------------"
   ]
  },
  {
   "cell_type": "code",
   "execution_count": 55,
   "metadata": {
    "collapsed": false
   },
   "outputs": [
    {
     "name": "stdout",
     "output_type": "stream",
     "text": [
      "Train model with rank=10 lambda_=1.000000 alpha=1.000000\n",
      "Train model with rank=10 lambda_=1.000000 alpha=25.000000\n",
      "Train model with rank=10 lambda_=1.000000 alpha=50.000000\n",
      "Train model with rank=10 lambda_=1.000000 alpha=75.000000\n",
      "Train model with rank=10 lambda_=0.100000 alpha=1.000000\n",
      "Train model with rank=10 lambda_=0.100000 alpha=25.000000\n",
      "Train model with rank=10 lambda_=0.100000 alpha=50.000000\n",
      "Train model with rank=10 lambda_=0.100000 alpha=75.000000\n",
      "Train model with rank=10 lambda_=0.001000 alpha=1.000000\n",
      "Train model with rank=10 lambda_=0.001000 alpha=25.000000\n",
      "Train model with rank=10 lambda_=0.001000 alpha=50.000000\n",
      "Train model with rank=10 lambda_=0.001000 alpha=75.000000\n",
      "Train model with rank=10 lambda_=0.000100 alpha=1.000000\n",
      "Train model with rank=10 lambda_=0.000100 alpha=25.000000\n",
      "Train model with rank=10 lambda_=0.000100 alpha=50.000000\n",
      "Train model with rank=10 lambda_=0.000100 alpha=75.000000\n",
      "Train model with rank=30 lambda_=1.000000 alpha=1.000000\n",
      "Train model with rank=30 lambda_=1.000000 alpha=25.000000\n",
      "Train model with rank=30 lambda_=1.000000 alpha=50.000000\n",
      "Train model with rank=30 lambda_=1.000000 alpha=75.000000\n",
      "Train model with rank=30 lambda_=0.100000 alpha=1.000000\n",
      "Train model with rank=30 lambda_=0.100000 alpha=25.000000\n",
      "Train model with rank=30 lambda_=0.100000 alpha=50.000000\n",
      "Train model with rank=30 lambda_=0.100000 alpha=75.000000\n",
      "Train model with rank=30 lambda_=0.001000 alpha=1.000000\n",
      "Train model with rank=30 lambda_=0.001000 alpha=25.000000\n",
      "Train model with rank=30 lambda_=0.001000 alpha=50.000000\n",
      "Train model with rank=30 lambda_=0.001000 alpha=75.000000\n",
      "Train model with rank=30 lambda_=0.000100 alpha=1.000000\n",
      "Train model with rank=30 lambda_=0.000100 alpha=25.000000\n",
      "Train model with rank=30 lambda_=0.000100 alpha=50.000000\n",
      "Train model with rank=30 lambda_=0.000100 alpha=75.000000\n",
      "Train model with rank=50 lambda_=1.000000 alpha=1.000000\n",
      "Train model with rank=50 lambda_=1.000000 alpha=25.000000\n",
      "Train model with rank=50 lambda_=1.000000 alpha=50.000000\n",
      "Train model with rank=50 lambda_=1.000000 alpha=75.000000\n",
      "Train model with rank=50 lambda_=0.100000 alpha=1.000000\n",
      "Train model with rank=50 lambda_=0.100000 alpha=25.000000\n",
      "Train model with rank=50 lambda_=0.100000 alpha=50.000000\n",
      "Train model with rank=50 lambda_=0.100000 alpha=75.000000\n",
      "Train model with rank=50 lambda_=0.001000 alpha=1.000000\n",
      "Train model with rank=50 lambda_=0.001000 alpha=25.000000\n",
      "Train model with rank=50 lambda_=0.001000 alpha=50.000000\n",
      "Train model with rank=50 lambda_=0.001000 alpha=75.000000\n",
      "Train model with rank=50 lambda_=0.000100 alpha=1.000000\n",
      "Train model with rank=50 lambda_=0.000100 alpha=25.000000\n",
      "Train model with rank=50 lambda_=0.000100 alpha=50.000000\n",
      "Train model with rank=50 lambda_=0.000100 alpha=75.000000\n",
      "Train model with rank=70 lambda_=1.000000 alpha=1.000000\n",
      "Train model with rank=70 lambda_=1.000000 alpha=25.000000\n",
      "Train model with rank=70 lambda_=1.000000 alpha=50.000000\n",
      "Train model with rank=70 lambda_=1.000000 alpha=75.000000\n",
      "Train model with rank=70 lambda_=0.100000 alpha=1.000000\n",
      "Train model with rank=70 lambda_=0.100000 alpha=25.000000\n",
      "Train model with rank=70 lambda_=0.100000 alpha=50.000000\n",
      "Train model with rank=70 lambda_=0.100000 alpha=75.000000\n",
      "Train model with rank=70 lambda_=0.001000 alpha=1.000000\n",
      "Train model with rank=70 lambda_=0.001000 alpha=25.000000\n",
      "Train model with rank=70 lambda_=0.001000 alpha=50.000000\n",
      "Train model with rank=70 lambda_=0.001000 alpha=75.000000\n",
      "Train model with rank=70 lambda_=0.000100 alpha=1.000000\n",
      "Train model with rank=70 lambda_=0.000100 alpha=25.000000\n",
      "Train model with rank=70 lambda_=0.000100 alpha=50.000000\n",
      "Train model with rank=70 lambda_=0.000100 alpha=75.000000\n",
      "                     0         1\n",
      "0       (10, 1.0, 1.0)  0.768753\n",
      "1   (10, 0.0001, 75.0)  0.766482\n",
      "2       (10, 0.1, 1.0)  0.759277\n",
      "3   (10, 0.0001, 25.0)  0.758262\n",
      "4    (10, 0.0001, 1.0)  0.751701\n",
      "5     (10, 0.001, 1.0)  0.741931\n",
      "6      (10, 1.0, 25.0)  0.741396\n",
      "7      (10, 0.1, 50.0)  0.738862\n",
      "8      (10, 0.1, 25.0)  0.738711\n",
      "9    (10, 0.001, 25.0)  0.738392\n",
      "10  (10, 0.0001, 50.0)  0.732345\n",
      "11     (30, 1.0, 25.0)  0.730650\n",
      "12      (30, 1.0, 1.0)  0.728137\n",
      "13   (10, 0.001, 75.0)  0.727409\n",
      "14     (10, 1.0, 75.0)  0.725133\n",
      "15     (30, 0.1, 25.0)  0.723246\n",
      "16     (30, 1.0, 50.0)  0.722340\n",
      "17     (50, 1.0, 25.0)  0.721486\n",
      "18     (70, 1.0, 25.0)  0.719722\n",
      "19  (30, 0.0001, 25.0)  0.718965\n",
      "20  (30, 0.0001, 50.0)  0.718887\n",
      "21     (10, 0.1, 75.0)  0.718416\n",
      "22   (30, 0.001, 25.0)  0.717833\n",
      "23     (10, 1.0, 50.0)  0.717826\n",
      "24     (30, 0.1, 50.0)  0.717695\n",
      "25      (50, 1.0, 1.0)  0.717242\n",
      "26      (30, 0.1, 1.0)  0.716482\n",
      "27     (50, 1.0, 50.0)  0.714850\n",
      "28  (50, 0.0001, 25.0)  0.713576\n",
      "29     (70, 1.0, 50.0)  0.711940\n",
      "..                 ...       ...\n",
      "34   (30, 0.001, 75.0)  0.706607\n",
      "35     (50, 1.0, 75.0)  0.705640\n",
      "36   (30, 0.001, 50.0)  0.705350\n",
      "37     (30, 1.0, 75.0)  0.704275\n",
      "38     (70, 0.1, 25.0)  0.704205\n",
      "39   (30, 0.0001, 1.0)  0.703876\n",
      "40     (50, 0.1, 50.0)  0.703199\n",
      "41     (30, 0.1, 75.0)  0.702624\n",
      "42  (30, 0.0001, 75.0)  0.702258\n",
      "43   (50, 0.001, 50.0)  0.701384\n",
      "44   (70, 0.001, 25.0)  0.700734\n",
      "45   (10, 0.001, 50.0)  0.700319\n",
      "46     (70, 1.0, 75.0)  0.700239\n",
      "47  (70, 0.0001, 25.0)  0.699752\n",
      "48      (50, 0.1, 1.0)  0.697470\n",
      "49  (50, 0.0001, 50.0)  0.695997\n",
      "50   (50, 0.0001, 1.0)  0.694107\n",
      "51     (70, 0.1, 50.0)  0.693360\n",
      "52    (50, 0.001, 1.0)  0.693347\n",
      "53   (70, 0.001, 50.0)  0.691058\n",
      "54  (70, 0.0001, 50.0)  0.689855\n",
      "55     (50, 0.1, 75.0)  0.689179\n",
      "56   (50, 0.001, 75.0)  0.687819\n",
      "57     (70, 0.1, 75.0)  0.687174\n",
      "58      (70, 0.1, 1.0)  0.686654\n",
      "59  (50, 0.0001, 75.0)  0.685698\n",
      "60    (70, 0.001, 1.0)  0.683726\n",
      "61   (70, 0.0001, 1.0)  0.683579\n",
      "62   (70, 0.001, 75.0)  0.682003\n",
      "63  (70, 0.0001, 75.0)  0.680918\n",
      "\n",
      "[64 rows x 2 columns]\n"
     ]
    },
    {
     "data": {
      "text/plain": [
       "PythonRDD[484] at RDD at PythonRDD.scala:48"
      ]
     },
     "execution_count": 55,
     "metadata": {},
     "output_type": "execute_result"
    }
   ],
   "source": [
    "tests = []\n",
    "\n",
    "for rank in [10,30,50,70]:\n",
    "    for lambda_ in [1.0,0.1,0.001,0.0001]:\n",
    "        for alpha in [1.0,25.0,50.0,75.0]:\n",
    "            print(\"Train model with rank=%d lambda_=%f alpha=%f\" % (rank, lambda_, alpha))\n",
    "            # with each combination of params, we should run multiple times and get avg\n",
    "            # for simple, we only run one time.\n",
    "            model = ALS.trainImplicit(miniData1, rank=rank, iterations=4, lambda_=lambda_, alpha=alpha)\n",
    "            \n",
    "            auc = calculateAUC(miniData2, bAllItemIDs, model.predictAll)\n",
    "            \n",
    "            tests.append(((rank, lambda_, alpha), auc))\n",
    "            \n",
    "            unpersist(model)\n",
    "\n",
    "tests.sort(key=lambda x: -x[1])\n",
    "                 \n",
    "testsDataFrame = pd.DataFrame(data=tests)\n",
    "print(testsDataFrame)\n",
    "\n",
    "miniData1.unpersist()\n",
    "miniData2.unpersist()"
   ]
  },
  {
   "cell_type": "markdown",
   "metadata": {},
   "source": [
    "--------------------------------------------------\n",
    "#  Comments:\n",
    "\n",
    "Here we ran the training and evaluation of 64 different combinations (4*4*4) of hyperparameters with the small datasets. Our hypothesis, based on the online documentation, was that due to the implementation of ALS in the MLLIB taking in account weighted lambda regularization, the results of the small data set trial could be generalized for a larger set.\n",
    "\n",
    "--------------------------------------------------"
   ]
  },
  {
   "cell_type": "code",
   "execution_count": 74,
   "metadata": {
    "collapsed": false,
    "scrolled": false
   },
   "outputs": [
    {
     "name": "stderr",
     "output_type": "stream",
     "text": [
      "/opt/conda/lib/python3.5/site-packages/matplotlib/collections.py:590: FutureWarning: elementwise comparison failed; returning scalar instead, but in the future will perform elementwise comparison\n",
      "  if self._edgecolors == str('face'):\n"
     ]
    },
    {
     "data": {
      "image/png": "[encoded data removed]",
      "text/plain": [
       "<matplotlib.figure.Figure at 0x7ff567d76550>"
      ]
     },
     "metadata": {},
     "output_type": "display_data"
    }
   ],
   "source": [
    "#print(testsDataFrame)\n",
    "\n",
    "ranks = []\n",
    "lambdas = []\n",
    "alphas = []\n",
    "aucs = []\n",
    "\n",
    "\n",
    "for x in testsDataFrame[0].values.tolist():\n",
    "    ranks.append(x[0])\n",
    "\n",
    "for x in testsDataFrame[0].values.tolist():\n",
    "    if x[1] == 1.0:\n",
    "        lambdas.append(0)\n",
    "    elif x[1] == 0.1:\n",
    "        lambdas.append(-1)\n",
    "    elif x[1] == 0.001:\n",
    "        lambdas.append(-3)\n",
    "    else:\n",
    "        lambdas.append(-4)\n",
    "        \n",
    "for x in testsDataFrame[0].values.tolist():\n",
    "    alphas.append(x[2])\n",
    "    \n",
    "for x in testsDataFrame[1].values.tolist():\n",
    "    aucs.append(x)\n",
    "    \n",
    "    \n",
    "#print(ranks)\n",
    "#print(lambdas)\n",
    "#print(alphas)\n",
    "#print(aucs)\n",
    "\n",
    "\n",
    "\n",
    "\n",
    "a = [10, 10, 10, 10, 10, 10, 10, 10, 10, 10, 10, 30, 30, 10, 10, 30, 30, 50, 70, 30, 30, 10, 30, 10, 30, 50, 30, 50, 50, 70, 70, 50, 50, 30, 30, 50, 30, 30, 70, 30, 50, 30, 30, 50, 70, 10, 70, 70, 50, 50, 50, 70, 50, 70, 70, 50, 50, 70, 70, 50, 70, 70, 70, 70]\n",
    "b = [0, -4, -1, -4, -4, -3, 0, -1, -1, -3, -4, 0, 0, -3, 0, -1, 0, 0, 0, -4, -4, -1, -3, 0, -1, 0, -1, 0, -4, 0, 0, -1, -3, -3, -3, 0, -3, 0, -1, -4, -1, -1, -4, -3, -3, -3, 0, -4, -1, -4, -4, -1, -3, -3, -4, -1, -3, -1, -1, -4, -3, -4, -3, -4]\n",
    "c = [1.0, 75.0, 1.0, 25.0, 1.0, 1.0, 25.0, 50.0, 25.0, 25.0, 50.0, 25.0, 1.0, 75.0, 75.0, 25.0, 50.0, 25.0, 25.0, 25.0, 50.0, 75.0, 25.0, 50.0, 50.0, 1.0, 1.0, 50.0, 25.0, 50.0, 1.0, 25.0, 25.0, 1.0, 75.0, 75.0, 50.0, 75.0, 25.0, 1.0, 50.0, 75.0, 75.0, 50.0, 25.0, 50.0, 75.0, 25.0, 1.0, 50.0, 1.0, 50.0, 1.0, 50.0, 50.0, 75.0, 75.0, 75.0, 1.0, 75.0, 1.0, 1.0, 75.0, 75.0]\n",
    "d = [0.7687527776702836, 0.7664816890179343, 0.7592774435318025, 0.7582615227620023, 0.7517010838829483, 0.7419306157131439, 0.7413959855978235, 0.7388621922631302, 0.7387105826570984, 0.7383917554361769, 0.732345435343563, 0.7306495692557191, 0.728136706436692, 0.7274088899839234, 0.7251334175192068, 0.7232462307250054, 0.7223395720421554, 0.7214855931093582, 0.7197222303123594, 0.7189653604083767, 0.7188868897753802, 0.7184160921767002, 0.7178331033238974, 0.7178260120256994, 0.7176949500457716, 0.717242360292371, 0.7164816265581422, 0.7148497289194068, 0.7135760411310617, 0.7119404339679596, 0.711320243075426, 0.7102636658153163, 0.7102083726193098, 0.7068541392585052, 0.7066067375038706, 0.705639949685384, 0.7053499756708131, 0.7042751207456207, 0.7042049360358128, 0.7038762774333155, 0.7031992731082994, 0.7026240636589599, 0.7022578652857312, 0.7013842202685265, 0.7007343187612249, 0.7003190015688869, 0.7002389541881159, 0.6997519323621415, 0.6974696398783398, 0.6959970339133252, 0.6941074268568144, 0.6933601061391632, 0.6933468535286058, 0.6910578354592726, 0.6898551081087937, 0.6891791384451837, 0.6878188743166718, 0.6871735798195101, 0.6866540461543114, 0.6856979774707246, 0.6837262842949402, 0.6835786795611412, 0.6820033861728265, 0.6809183997437601]\n",
    "\n",
    "\n",
    "\n",
    "\n",
    "\n",
    "\n",
    "\n",
    "from mpl_toolkits.mplot3d import Axes3D\n",
    "import matplotlib.pyplot as plt\n",
    "import numpy as np\n",
    "from matplotlib import cm\n",
    "import matplotlib as mpl\n",
    "\n",
    "\n",
    "fig = plt.figure(figsize=(15,10))\n",
    "ax = fig.add_subplot(111, projection='3d')\n",
    "\n",
    "\n",
    "\n",
    "ax.set_xlabel('Rank')\n",
    "ax.set_ylabel('Lambda (10^X)')\n",
    "ax.set_zlabel('Alpha')\n",
    "\n",
    "asd = ax.scatter(ranks, lambdas, alphas, c=aucs, cmap=plt.jet(), s=200)\n",
    "plt.colorbar(asd)\n",
    "plt.show()"
   ]
  },
  {
   "cell_type": "markdown",
   "metadata": {},
   "source": [
    "--------------------------------------------------\n",
    "#  Comments:\n",
    "\n",
    "After running the experiments and visualizing them, we can safely say that there was something very wrong with our original hypothesis. It seems that the hyperparameter/AUC graphs of the small and large datasets do not correlate directly. The best result with the original dataset was reached with a high alpha, low lambda and a high rank, while that combination seems to be on the worse end with the small dataset. \n",
    "<br>\n",
    "However, the best result was achieved with a high alpha and a low lambda. This gives us the indication that perhaps lambda and alpha do correlate between the different sized datasets, but optimal rank would then be dependent on the size of the dataset. After consideration, this would make sense intuitively. Our understanding is that rank means the amount of \"hidden features\" in the data, i.e. groups of people listening to similar music. It would make sense that with a larger dataset, it is possible to identify more and more specific groups, allowing for better predictions.\n",
    "\n",
    "--------------------------------------------------"
   ]
  },
  {
   "cell_type": "markdown",
   "metadata": {},
   "source": [
    "# Summary\n",
    "\n",
    "In this notebook, we introduce an algorithm to do matrix factorization and the way of using it to make recommendation. Further more, we studied how to build a large-scale recommender system on SPARK using ALS algorithm and evaluate its quality. Finally, a simple approach to choose good parameters is mentioned."
   ]
  },
  {
   "cell_type": "markdown",
   "metadata": {
    "collapsed": true
   },
   "source": [
    "# References\n",
    "\n",
    "- The example in section 2 is taken from [Recommender system](infolab.stanford.edu/~ullman/mmds/ch9.pdf)"
   ]
  }
 ],
 "metadata": {
  "kernelspec": {
   "display_name": "Python 3",
   "language": "python",
   "name": "python3"
  },
  "language_info": {
   "codemirror_mode": {
    "name": "ipython",
    "version": 3
   },
   "file_extension": ".py",
   "mimetype": "text/x-python",
   "name": "python",
   "nbconvert_exporter": "python",
   "pygments_lexer": "ipython3",
   "version": "3.5.2"
  }
 },
 "nbformat": 4,
 "nbformat_minor": 0
}
